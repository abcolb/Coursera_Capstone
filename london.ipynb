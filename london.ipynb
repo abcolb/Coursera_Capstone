{
 "cells": [
  {
   "cell_type": "markdown",
   "metadata": {},
   "source": [
    "# London Neighborhood mining\n",
    "\n",
    "This notebook combines data sources (wikipedia and Foursquare API) to assemble a list of neighborhoods and map them to their coordinates for futher processing."
   ]
  },
  {
   "cell_type": "code",
   "execution_count": 2,
   "metadata": {},
   "outputs": [],
   "source": [
    "import pandas as pd\n",
    "import re\n",
    "\n",
    "from geocoder import enrich_neighborhoods_with_geocoder, map_neighborhoods"
   ]
  },
  {
   "cell_type": "markdown",
   "metadata": {},
   "source": [
    "### Scrape wikipedia to compile Frankfurt neighborhood list"
   ]
  },
  {
   "cell_type": "code",
   "execution_count": 3,
   "metadata": {},
   "outputs": [
    {
     "data": {
      "text/html": [
       "<div>\n",
       "<style scoped>\n",
       "    .dataframe tbody tr th:only-of-type {\n",
       "        vertical-align: middle;\n",
       "    }\n",
       "\n",
       "    .dataframe tbody tr th {\n",
       "        vertical-align: top;\n",
       "    }\n",
       "\n",
       "    .dataframe thead th {\n",
       "        text-align: right;\n",
       "    }\n",
       "</style>\n",
       "<table border=\"1\" class=\"dataframe\">\n",
       "  <thead>\n",
       "    <tr style=\"text-align: right;\">\n",
       "      <th></th>\n",
       "      <th>Borough</th>\n",
       "      <th>Inner</th>\n",
       "      <th>Status</th>\n",
       "      <th>Local authority</th>\n",
       "      <th>Political control</th>\n",
       "      <th>Headquarters</th>\n",
       "      <th>Area (sq mi)</th>\n",
       "      <th>Population (2013 est)[1]</th>\n",
       "      <th>Co-ordinates</th>\n",
       "      <th>Nr. in map</th>\n",
       "    </tr>\n",
       "  </thead>\n",
       "  <tbody>\n",
       "    <tr>\n",
       "      <td>0</td>\n",
       "      <td>Barking and Dagenham [note 1]</td>\n",
       "      <td>NaN</td>\n",
       "      <td>NaN</td>\n",
       "      <td>Barking and Dagenham London Borough Council</td>\n",
       "      <td>Labour</td>\n",
       "      <td>Town Hall, 1 Town Square</td>\n",
       "      <td>13.93</td>\n",
       "      <td>194352</td>\n",
       "      <td>51°33′39″N 0°09′21″E﻿ / ﻿51.5607°N 0.1557°E</td>\n",
       "      <td>25</td>\n",
       "    </tr>\n",
       "    <tr>\n",
       "      <td>1</td>\n",
       "      <td>Barnet</td>\n",
       "      <td>NaN</td>\n",
       "      <td>NaN</td>\n",
       "      <td>Barnet London Borough Council</td>\n",
       "      <td>Conservative</td>\n",
       "      <td>North London Business Park, Oakleigh Road South</td>\n",
       "      <td>33.49</td>\n",
       "      <td>369088</td>\n",
       "      <td>51°37′31″N 0°09′06″W﻿ / ﻿51.6252°N 0.1517°W</td>\n",
       "      <td>31</td>\n",
       "    </tr>\n",
       "    <tr>\n",
       "      <td>2</td>\n",
       "      <td>Bexley</td>\n",
       "      <td>NaN</td>\n",
       "      <td>NaN</td>\n",
       "      <td>Bexley London Borough Council</td>\n",
       "      <td>Conservative</td>\n",
       "      <td>Civic Offices, 2 Watling Street</td>\n",
       "      <td>23.38</td>\n",
       "      <td>236687</td>\n",
       "      <td>51°27′18″N 0°09′02″E﻿ / ﻿51.4549°N 0.1505°E</td>\n",
       "      <td>23</td>\n",
       "    </tr>\n",
       "    <tr>\n",
       "      <td>3</td>\n",
       "      <td>Brent</td>\n",
       "      <td>NaN</td>\n",
       "      <td>NaN</td>\n",
       "      <td>Brent London Borough Council</td>\n",
       "      <td>Labour</td>\n",
       "      <td>Brent Civic Centre, Engineers Way</td>\n",
       "      <td>16.70</td>\n",
       "      <td>317264</td>\n",
       "      <td>51°33′32″N 0°16′54″W﻿ / ﻿51.5588°N 0.2817°W</td>\n",
       "      <td>12</td>\n",
       "    </tr>\n",
       "    <tr>\n",
       "      <td>4</td>\n",
       "      <td>Bromley</td>\n",
       "      <td>NaN</td>\n",
       "      <td>NaN</td>\n",
       "      <td>Bromley London Borough Council</td>\n",
       "      <td>Conservative</td>\n",
       "      <td>Civic Centre, Stockwell Close</td>\n",
       "      <td>57.97</td>\n",
       "      <td>317899</td>\n",
       "      <td>51°24′14″N 0°01′11″E﻿ / ﻿51.4039°N 0.0198°E</td>\n",
       "      <td>20</td>\n",
       "    </tr>\n",
       "  </tbody>\n",
       "</table>\n",
       "</div>"
      ],
      "text/plain": [
       "                         Borough Inner Status  \\\n",
       "0  Barking and Dagenham [note 1]   NaN    NaN   \n",
       "1                         Barnet   NaN    NaN   \n",
       "2                         Bexley   NaN    NaN   \n",
       "3                          Brent   NaN    NaN   \n",
       "4                        Bromley   NaN    NaN   \n",
       "\n",
       "                               Local authority Political control  \\\n",
       "0  Barking and Dagenham London Borough Council            Labour   \n",
       "1                Barnet London Borough Council      Conservative   \n",
       "2                Bexley London Borough Council      Conservative   \n",
       "3                 Brent London Borough Council            Labour   \n",
       "4               Bromley London Borough Council      Conservative   \n",
       "\n",
       "                                      Headquarters  Area (sq mi)  \\\n",
       "0                         Town Hall, 1 Town Square         13.93   \n",
       "1  North London Business Park, Oakleigh Road South         33.49   \n",
       "2                  Civic Offices, 2 Watling Street         23.38   \n",
       "3                Brent Civic Centre, Engineers Way         16.70   \n",
       "4                    Civic Centre, Stockwell Close         57.97   \n",
       "\n",
       "   Population (2013 est)[1]                                 Co-ordinates  \\\n",
       "0                    194352  51°33′39″N 0°09′21″E﻿ / ﻿51.5607°N 0.1557°E   \n",
       "1                    369088  51°37′31″N 0°09′06″W﻿ / ﻿51.6252°N 0.1517°W   \n",
       "2                    236687  51°27′18″N 0°09′02″E﻿ / ﻿51.4549°N 0.1505°E   \n",
       "3                    317264  51°33′32″N 0°16′54″W﻿ / ﻿51.5588°N 0.2817°W   \n",
       "4                    317899  51°24′14″N 0°01′11″E﻿ / ﻿51.4039°N 0.0198°E   \n",
       "\n",
       "   Nr. in map  \n",
       "0          25  \n",
       "1          31  \n",
       "2          23  \n",
       "3          12  \n",
       "4          20  "
      ]
     },
     "execution_count": 3,
     "metadata": {},
     "output_type": "execute_result"
    }
   ],
   "source": [
    "tables = pd.read_html('https://en.wikipedia.org/wiki/List_of_London_boroughs')\n",
    "tables[0].head()"
   ]
  },
  {
   "cell_type": "code",
   "execution_count": 6,
   "metadata": {},
   "outputs": [
    {
     "data": {
      "text/html": [
       "<div>\n",
       "<style scoped>\n",
       "    .dataframe tbody tr th:only-of-type {\n",
       "        vertical-align: middle;\n",
       "    }\n",
       "\n",
       "    .dataframe tbody tr th {\n",
       "        vertical-align: top;\n",
       "    }\n",
       "\n",
       "    .dataframe thead th {\n",
       "        text-align: right;\n",
       "    }\n",
       "</style>\n",
       "<table border=\"1\" class=\"dataframe\">\n",
       "  <thead>\n",
       "    <tr style=\"text-align: right;\">\n",
       "      <th></th>\n",
       "      <th>Neighborhood</th>\n",
       "    </tr>\n",
       "  </thead>\n",
       "  <tbody>\n",
       "    <tr>\n",
       "      <td>0</td>\n",
       "      <td>Barking and Dagenham</td>\n",
       "    </tr>\n",
       "    <tr>\n",
       "      <td>1</td>\n",
       "      <td>Barnet</td>\n",
       "    </tr>\n",
       "    <tr>\n",
       "      <td>2</td>\n",
       "      <td>Bexley</td>\n",
       "    </tr>\n",
       "    <tr>\n",
       "      <td>3</td>\n",
       "      <td>Brent</td>\n",
       "    </tr>\n",
       "    <tr>\n",
       "      <td>4</td>\n",
       "      <td>Bromley</td>\n",
       "    </tr>\n",
       "  </tbody>\n",
       "</table>\n",
       "</div>"
      ],
      "text/plain": [
       "            Neighborhood\n",
       "0  Barking and Dagenham \n",
       "1                 Barnet\n",
       "2                 Bexley\n",
       "3                  Brent\n",
       "4                Bromley"
      ]
     },
     "execution_count": 6,
     "metadata": {},
     "output_type": "execute_result"
    }
   ],
   "source": [
    "df = tables[0][['Borough']]\n",
    "df.loc[:,'Borough'] = df['Borough'].apply(lambda x: re.sub(r'\\[.*\\]', '', x))\n",
    "df.columns = ['Neighborhood']\n",
    "df.head()"
   ]
  },
  {
   "cell_type": "markdown",
   "metadata": {},
   "source": [
    "#### Drop duplicates"
   ]
  },
  {
   "cell_type": "code",
   "execution_count": 7,
   "metadata": {},
   "outputs": [
    {
     "data": {
      "text/plain": [
       "Wandsworth                 1\n",
       "Haringey                   1\n",
       "Barking and Dagenham       1\n",
       "Hillingdon                 1\n",
       "Camden                     1\n",
       "Richmond upon Thames       1\n",
       "Tower Hamlets              1\n",
       "Westminster                1\n",
       "Sutton                     1\n",
       "Kingston upon Thames       1\n",
       "Bexley                     1\n",
       "Brent                      1\n",
       "Harrow                     1\n",
       "Enfield                    1\n",
       "Lambeth                    1\n",
       "Croydon                    1\n",
       "Hackney                    1\n",
       "Kensington and Chelsea     1\n",
       "Newham                     1\n",
       "Hounslow                   1\n",
       "Lewisham                   1\n",
       "Havering                   1\n",
       "Greenwich                  1\n",
       "Islington                  1\n",
       "Barnet                     1\n",
       "Southwark                  1\n",
       "Merton                     1\n",
       "Redbridge                  1\n",
       "Hammersmith and Fulham     1\n",
       "Waltham Forest             1\n",
       "Bromley                    1\n",
       "Ealing                     1\n",
       "Name: Neighborhood, dtype: int64"
      ]
     },
     "execution_count": 7,
     "metadata": {},
     "output_type": "execute_result"
    }
   ],
   "source": [
    "df['Neighborhood'].value_counts(dropna=False)"
   ]
  },
  {
   "cell_type": "markdown",
   "metadata": {},
   "source": [
    "### Combine wikipedia data with geocoder data\n"
   ]
  },
  {
   "cell_type": "code",
   "execution_count": 8,
   "metadata": {},
   "outputs": [
    {
     "name": "stderr",
     "output_type": "stream",
     "text": [
      "/opt/anaconda3/lib/python3.7/site-packages/pandas/core/indexing.py:376: SettingWithCopyWarning: \n",
      "A value is trying to be set on a copy of a slice from a DataFrame.\n",
      "Try using .loc[row_indexer,col_indexer] = value instead\n",
      "\n",
      "See the caveats in the documentation: http://pandas.pydata.org/pandas-docs/stable/user_guide/indexing.html#returning-a-view-versus-a-copy\n",
      "  self.obj[key] = _infer_fill_value(value)\n",
      "/opt/anaconda3/lib/python3.7/site-packages/pandas/core/indexing.py:494: SettingWithCopyWarning: \n",
      "A value is trying to be set on a copy of a slice from a DataFrame.\n",
      "Try using .loc[row_indexer,col_indexer] = value instead\n",
      "\n",
      "See the caveats in the documentation: http://pandas.pydata.org/pandas-docs/stable/user_guide/indexing.html#returning-a-view-versus-a-copy\n",
      "  self.obj[item] = s\n",
      "/opt/anaconda3/lib/python3.7/site-packages/pandas/core/frame.py:4102: SettingWithCopyWarning: \n",
      "A value is trying to be set on a copy of a slice from a DataFrame\n",
      "\n",
      "See the caveats in the documentation: http://pandas.pydata.org/pandas-docs/stable/user_guide/indexing.html#returning-a-view-versus-a-copy\n",
      "  errors=errors,\n"
     ]
    },
    {
     "data": {
      "text/html": [
       "<div>\n",
       "<style scoped>\n",
       "    .dataframe tbody tr th:only-of-type {\n",
       "        vertical-align: middle;\n",
       "    }\n",
       "\n",
       "    .dataframe tbody tr th {\n",
       "        vertical-align: top;\n",
       "    }\n",
       "\n",
       "    .dataframe thead th {\n",
       "        text-align: right;\n",
       "    }\n",
       "</style>\n",
       "<table border=\"1\" class=\"dataframe\">\n",
       "  <thead>\n",
       "    <tr style=\"text-align: right;\">\n",
       "      <th></th>\n",
       "      <th>Neighborhood</th>\n",
       "      <th>Latitude</th>\n",
       "      <th>Longitude</th>\n",
       "    </tr>\n",
       "  </thead>\n",
       "  <tbody>\n",
       "    <tr>\n",
       "      <td>0</td>\n",
       "      <td>Barking and Dagenham</td>\n",
       "      <td>51.554117</td>\n",
       "      <td>0.150504</td>\n",
       "    </tr>\n",
       "    <tr>\n",
       "      <td>1</td>\n",
       "      <td>Barnet</td>\n",
       "      <td>51.648784</td>\n",
       "      <td>-0.172913</td>\n",
       "    </tr>\n",
       "    <tr>\n",
       "      <td>2</td>\n",
       "      <td>Bexley</td>\n",
       "      <td>51.441679</td>\n",
       "      <td>0.150488</td>\n",
       "    </tr>\n",
       "    <tr>\n",
       "      <td>3</td>\n",
       "      <td>Brent</td>\n",
       "      <td>51.584778</td>\n",
       "      <td>-0.299180</td>\n",
       "    </tr>\n",
       "    <tr>\n",
       "      <td>4</td>\n",
       "      <td>Bromley</td>\n",
       "      <td>51.402805</td>\n",
       "      <td>0.014814</td>\n",
       "    </tr>\n",
       "  </tbody>\n",
       "</table>\n",
       "</div>"
      ],
      "text/plain": [
       "            Neighborhood   Latitude  Longitude\n",
       "0  Barking and Dagenham   51.554117   0.150504\n",
       "1                 Barnet  51.648784  -0.172913\n",
       "2                 Bexley  51.441679   0.150488\n",
       "3                  Brent  51.584778  -0.299180\n",
       "4                Bromley  51.402805   0.014814"
      ]
     },
     "execution_count": 8,
     "metadata": {},
     "output_type": "execute_result"
    }
   ],
   "source": [
    "enrich_neighborhoods_with_geocoder(df, \"London, England\")\n",
    "df.head()"
   ]
  },
  {
   "cell_type": "markdown",
   "metadata": {},
   "source": [
    "### Save neighborhood coordinates dataset"
   ]
  },
  {
   "cell_type": "code",
   "execution_count": 10,
   "metadata": {},
   "outputs": [],
   "source": [
    "df.to_csv('data/london_neighborhood_coords.csv')"
   ]
  },
  {
   "cell_type": "markdown",
   "metadata": {},
   "source": [
    "### Visualize London neighborhoods\n",
    "<a id=\"vis-neighborhoods\"></a>"
   ]
  },
  {
   "cell_type": "code",
   "execution_count": 11,
   "metadata": {},
   "outputs": [
    {
     "data": {
      "text/html": [
       "<div style=\"width:100%;\"><div style=\"position:relative;width:100%;height:0;padding-bottom:60%;\"><iframe src=\"data:text/html;charset=utf-8;base64,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\" style=\"position:absolute;width:100%;height:100%;left:0;top:0;border:none !important;\" allowfullscreen webkitallowfullscreen mozallowfullscreen></iframe></div></div>"
      ],
      "text/plain": [
       "<folium.folium.Map at 0x11fb66290>"
      ]
     },
     "execution_count": 11,
     "metadata": {},
     "output_type": "execute_result"
    }
   ],
   "source": [
    "m = map_neighborhoods(df, \"London, England\")\n",
    "m"
   ]
  }
 ],
 "metadata": {
  "kernelspec": {
   "display_name": "Python 3",
   "language": "python",
   "name": "python3"
  },
  "language_info": {
   "codemirror_mode": {
    "name": "ipython",
    "version": 3
   },
   "file_extension": ".py",
   "mimetype": "text/x-python",
   "name": "python",
   "nbconvert_exporter": "python",
   "pygments_lexer": "ipython3",
   "version": "3.7.4"
  }
 },
 "nbformat": 4,
 "nbformat_minor": 2
}
