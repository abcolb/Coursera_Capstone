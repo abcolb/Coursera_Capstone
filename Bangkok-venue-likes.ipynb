{
 "cells": [
  {
   "cell_type": "code",
   "execution_count": 1,
   "metadata": {},
   "outputs": [],
   "source": [
    "import pandas as pd\n",
    "import numpy as np\n",
    "\n",
    "import re\n",
    "\n",
    "import matplotlib.pyplot as plt\n",
    "import seaborn as sns\n",
    "%matplotlib inline\n",
    "\n",
    "import geopandas as gpd\n",
    "\n",
    "from scipy.stats import boxcox\n",
    "\n",
    "from foursquare import fetch_venue_likes"
   ]
  },
  {
   "cell_type": "markdown",
   "metadata": {},
   "source": [
    "# Fetch and Transform Venue Likes"
   ]
  },
  {
   "cell_type": "markdown",
   "metadata": {},
   "source": [
    "### Table of Contents\n",
    "\n",
    "1. [Load Food Venues](#load-venues)\n",
    "\n",
    "2. [Fetch Venue Likes](#venue-likes)\n",
    "    \n",
    "3. [Apply weights to Venue Likes buckets](#likes-weights)\n",
    "\n",
    "### Inputs/Outputs\n",
    "Required inputs:\n",
    "- 'data/Bangkok_districts_food_venues.geojson' (as generated in './Bangkok_venues.ipynb')\n",
    "\n",
    "Outputs:\n",
    "- 'data/Bangkok_venue_likes.shp'\n",
    "- 'data/Bangkok_venue_values.geojson'"
   ]
  },
  {
   "cell_type": "markdown",
   "metadata": {},
   "source": [
    "## Load Food Venues\n",
    "<a id='load-venues'></a>"
   ]
  },
  {
   "cell_type": "code",
   "execution_count": 2,
   "metadata": {},
   "outputs": [
    {
     "data": {
      "text/html": [
       "<div>\n",
       "<style scoped>\n",
       "    .dataframe tbody tr th:only-of-type {\n",
       "        vertical-align: middle;\n",
       "    }\n",
       "\n",
       "    .dataframe tbody tr th {\n",
       "        vertical-align: top;\n",
       "    }\n",
       "\n",
       "    .dataframe thead th {\n",
       "        text-align: right;\n",
       "    }\n",
       "</style>\n",
       "<table border=\"1\" class=\"dataframe\">\n",
       "  <thead>\n",
       "    <tr style=\"text-align: right;\">\n",
       "      <th></th>\n",
       "      <th>city</th>\n",
       "      <th>id</th>\n",
       "      <th>name</th>\n",
       "      <th>category</th>\n",
       "      <th>geometry</th>\n",
       "    </tr>\n",
       "  </thead>\n",
       "  <tbody>\n",
       "    <tr>\n",
       "      <td>0</td>\n",
       "      <td>Bangkok</td>\n",
       "      <td>5d89ecb2ebc5f800083c9c72</td>\n",
       "      <td>วนิดาฟาร์ม ร้านอาหารทะเล ฟาร์มสเตย์ และบ่อตกปล...</td>\n",
       "      <td>Restaurant</td>\n",
       "      <td>POINT (100.08018 13.42733)</td>\n",
       "    </tr>\n",
       "    <tr>\n",
       "      <td>1</td>\n",
       "      <td>Bangkok</td>\n",
       "      <td>4f979611e4b0107577b7473d</td>\n",
       "      <td>น้ำดื่มไลออนคิงส์</td>\n",
       "      <td>Deli / Bodega</td>\n",
       "      <td>POINT (100.07984 13.42660)</td>\n",
       "    </tr>\n",
       "    <tr>\n",
       "      <td>2</td>\n",
       "      <td>Bangkok</td>\n",
       "      <td>4f019036c5126f14b907d325</td>\n",
       "      <td>ครัวแสงดาว</td>\n",
       "      <td>Seafood Restaurant</td>\n",
       "      <td>POINT (100.09205 13.43016)</td>\n",
       "    </tr>\n",
       "    <tr>\n",
       "      <td>3</td>\n",
       "      <td>Bangkok</td>\n",
       "      <td>4f2a1166e4b0d4e47d2b0990</td>\n",
       "      <td>อังเคิ้ลอาหารตามสั่ง ในปั้มน้ำมันบางจาก</td>\n",
       "      <td>Restaurant</td>\n",
       "      <td>POINT (100.07888 13.44924)</td>\n",
       "    </tr>\n",
       "    <tr>\n",
       "      <td>4</td>\n",
       "      <td>Bangkok</td>\n",
       "      <td>4ee0b7b80e01452f928d12ee</td>\n",
       "      <td>ลาบยโส ด่านช่างพระราม2 บางโทรัด  สมุทรสาคร</td>\n",
       "      <td>Thai Restaurant</td>\n",
       "      <td>POINT (100.07936 13.44986)</td>\n",
       "    </tr>\n",
       "    <tr>\n",
       "      <td>...</td>\n",
       "      <td>...</td>\n",
       "      <td>...</td>\n",
       "      <td>...</td>\n",
       "      <td>...</td>\n",
       "      <td>...</td>\n",
       "    </tr>\n",
       "    <tr>\n",
       "      <td>56384</td>\n",
       "      <td>Bangkok</td>\n",
       "      <td>4e5a1b4c52b1b78b81a5ab1d</td>\n",
       "      <td>เรือนรับรองโรงเรียนเตรียม</td>\n",
       "      <td>Thai Restaurant</td>\n",
       "      <td>POINT (101.12332 14.30844)</td>\n",
       "    </tr>\n",
       "    <tr>\n",
       "      <td>56385</td>\n",
       "      <td>Bangkok</td>\n",
       "      <td>4feab941e4b07f87a595eb68</td>\n",
       "      <td>ร้านกาแฟพี่กุ้ง</td>\n",
       "      <td>Coffee Shop</td>\n",
       "      <td>POINT (101.11967 14.30635)</td>\n",
       "    </tr>\n",
       "    <tr>\n",
       "      <td>56386</td>\n",
       "      <td>Bangkok</td>\n",
       "      <td>4fbdc0d8e4b06a0de5ba961b</td>\n",
       "      <td>ก๋วยเตี๋ยวห้อยขา @ รร.เตรียมทหาร</td>\n",
       "      <td>Noodle House</td>\n",
       "      <td>POINT (101.12011 14.30625)</td>\n",
       "    </tr>\n",
       "    <tr>\n",
       "      <td>56387</td>\n",
       "      <td>Bangkok</td>\n",
       "      <td>5683b4e2498e95633f18c3bf</td>\n",
       "      <td>Wine I Love You Sweet Cafe</td>\n",
       "      <td>Donut Shop</td>\n",
       "      <td>POINT (101.11607 14.30994)</td>\n",
       "    </tr>\n",
       "    <tr>\n",
       "      <td>56388</td>\n",
       "      <td>Bangkok</td>\n",
       "      <td>4dfcedb5d22d879302f709d3</td>\n",
       "      <td>ข้าวต้มอ๊อดอ๊อด</td>\n",
       "      <td>Food</td>\n",
       "      <td>POINT (101.21884 13.58082)</td>\n",
       "    </tr>\n",
       "  </tbody>\n",
       "</table>\n",
       "<p>56389 rows × 5 columns</p>\n",
       "</div>"
      ],
      "text/plain": [
       "          city                        id  \\\n",
       "0      Bangkok  5d89ecb2ebc5f800083c9c72   \n",
       "1      Bangkok  4f979611e4b0107577b7473d   \n",
       "2      Bangkok  4f019036c5126f14b907d325   \n",
       "3      Bangkok  4f2a1166e4b0d4e47d2b0990   \n",
       "4      Bangkok  4ee0b7b80e01452f928d12ee   \n",
       "...        ...                       ...   \n",
       "56384  Bangkok  4e5a1b4c52b1b78b81a5ab1d   \n",
       "56385  Bangkok  4feab941e4b07f87a595eb68   \n",
       "56386  Bangkok  4fbdc0d8e4b06a0de5ba961b   \n",
       "56387  Bangkok  5683b4e2498e95633f18c3bf   \n",
       "56388  Bangkok  4dfcedb5d22d879302f709d3   \n",
       "\n",
       "                                                    name            category  \\\n",
       "0      วนิดาฟาร์ม ร้านอาหารทะเล ฟาร์มสเตย์ และบ่อตกปล...          Restaurant   \n",
       "1                                      น้ำดื่มไลออนคิงส์       Deli / Bodega   \n",
       "2                                             ครัวแสงดาว  Seafood Restaurant   \n",
       "3                อังเคิ้ลอาหารตามสั่ง ในปั้มน้ำมันบางจาก          Restaurant   \n",
       "4             ลาบยโส ด่านช่างพระราม2 บางโทรัด  สมุทรสาคร     Thai Restaurant   \n",
       "...                                                  ...                 ...   \n",
       "56384                          เรือนรับรองโรงเรียนเตรียม     Thai Restaurant   \n",
       "56385                                    ร้านกาแฟพี่กุ้ง         Coffee Shop   \n",
       "56386                   ก๋วยเตี๋ยวห้อยขา @ รร.เตรียมทหาร        Noodle House   \n",
       "56387                         Wine I Love You Sweet Cafe          Donut Shop   \n",
       "56388                                    ข้าวต้มอ๊อดอ๊อด                Food   \n",
       "\n",
       "                         geometry  \n",
       "0      POINT (100.08018 13.42733)  \n",
       "1      POINT (100.07984 13.42660)  \n",
       "2      POINT (100.09205 13.43016)  \n",
       "3      POINT (100.07888 13.44924)  \n",
       "4      POINT (100.07936 13.44986)  \n",
       "...                           ...  \n",
       "56384  POINT (101.12332 14.30844)  \n",
       "56385  POINT (101.11967 14.30635)  \n",
       "56386  POINT (101.12011 14.30625)  \n",
       "56387  POINT (101.11607 14.30994)  \n",
       "56388  POINT (101.21884 13.58082)  \n",
       "\n",
       "[56389 rows x 5 columns]"
      ]
     },
     "execution_count": 2,
     "metadata": {},
     "output_type": "execute_result"
    }
   ],
   "source": [
    "venues_gdf = gpd.read_file('data/Bangkok_districts_food_venues.geojson',index_col=0)\n",
    "venues_gdf"
   ]
  },
  {
   "cell_type": "markdown",
   "metadata": {},
   "source": [
    "## Fetch Venue Likes\n",
    "<a id='venue-likes'></a>"
   ]
  },
  {
   "cell_type": "code",
   "execution_count": 49,
   "metadata": {},
   "outputs": [
    {
     "name": "stdout",
     "output_type": "stream",
     "text": [
      "Status 404\n"
     ]
    }
   ],
   "source": [
    "# Fetch venue likes and add to GeoDataFrame\n",
    "for i,v in venues_gdf.iterrows():\n",
    "    venues_gdf.loc[i,'likes']=fetch_venue_likes(v.id)"
   ]
  },
  {
   "cell_type": "code",
   "execution_count": 53,
   "metadata": {},
   "outputs": [],
   "source": [
    "# Drop three venues for which likes unfound\n",
    "missing_likes = venues_gdf[venues_gdf.likes.isna()].index\n",
    "venues_gdf.drop(missing_likes,inplace=True)"
   ]
  },
  {
   "cell_type": "code",
   "execution_count": 307,
   "metadata": {},
   "outputs": [],
   "source": [
    "# Save likes to file\n",
    "venues_gdf[['id','geometry','likes']].to_file('data/Bangkok_venue_likes.shp')"
   ]
  },
  {
   "cell_type": "code",
   "execution_count": 58,
   "metadata": {},
   "outputs": [
    {
     "data": {
      "text/plain": [
       "19721    1216.0\n",
       "45572    1108.0\n",
       "19722     870.0\n",
       "25892     779.0\n",
       "18718     742.0\n",
       "          ...  \n",
       "34151       0.0\n",
       "34150       0.0\n",
       "42696      -1.0\n",
       "9877       -1.0\n",
       "27269      -1.0\n",
       "Name: likes, Length: 56386, dtype: float64"
      ]
     },
     "execution_count": 58,
     "metadata": {},
     "output_type": "execute_result"
    }
   ],
   "source": [
    "# Show range of number of likes\n",
    "venues_gdf.likes.sort_values(ascending=False)"
   ]
  },
  {
   "cell_type": "code",
   "execution_count": 138,
   "metadata": {},
   "outputs": [
    {
     "data": {
      "text/plain": [
       "35816"
      ]
     },
     "execution_count": 138,
     "metadata": {},
     "output_type": "execute_result"
    }
   ],
   "source": [
    "# Over half the venues have zero likes\n",
    "(venues_gdf.likes==0).sum()"
   ]
  },
  {
   "cell_type": "code",
   "execution_count": 62,
   "metadata": {},
   "outputs": [],
   "source": [
    "# Exclude 3 venues with -1 likes\n",
    "venues_gdf.drop(venues_gdf[venues_gdf.likes<0].index,inplace=True)"
   ]
  },
  {
   "cell_type": "code",
   "execution_count": 132,
   "metadata": {},
   "outputs": [
    {
     "data": {
      "text/plain": [
       "<matplotlib.axes._subplots.AxesSubplot at 0x1a2682ed50>"
      ]
     },
     "execution_count": 132,
     "metadata": {},
     "output_type": "execute_result"
    },
    {
     "data": {
      "image/png": "[encoded data removed]",
      "text/plain": [
       "<Figure size 432x288 with 1 Axes>"
      ]
     },
     "metadata": {
      "needs_background": "light"
     },
     "output_type": "display_data"
    }
   ],
   "source": [
    "# Plot distribution of venue likes\n",
    "venues_gdf.likes.hist(bins=40)"
   ]
  },
  {
   "cell_type": "code",
   "execution_count": 135,
   "metadata": {},
   "outputs": [
    {
     "data": {
      "text/plain": [
       "<matplotlib.axes._subplots.AxesSubplot at 0x1a26b6c290>"
      ]
     },
     "execution_count": 135,
     "metadata": {},
     "output_type": "execute_result"
    },
    {
     "data": {
      "image/png": "[encoded data removed]",
      "text/plain": [
       "<Figure size 432x288 with 1 Axes>"
      ]
     },
     "metadata": {
      "needs_background": "light"
     },
     "output_type": "display_data"
    }
   ],
   "source": [
    "# Take log of 'likes' since its distribution is right-skewed\n",
    "venues_gdf['log_likes']=np.log(venues_gdf.likes+1) # correct for many zeros - or try boxcox\n",
    "venues_gdf.log_likes.hist(bins=40)"
   ]
  },
  {
   "cell_type": "code",
   "execution_count": 153,
   "metadata": {},
   "outputs": [
    {
     "name": "stdout",
     "output_type": "stream",
     "text": [
      "boxcox lambda: -1.1225846908253287\n"
     ]
    }
   ],
   "source": [
    "# Use power transform of 'likes' since log-transform is not powerful enough\n",
    "bc = boxcox(venues_gdf.likes+1)\n",
    "\n",
    "print('boxcox lambda:', bc[1])\n",
    "venues_gdf['boxcox_likes'] = bc[0]"
   ]
  },
  {
   "cell_type": "code",
   "execution_count": 148,
   "metadata": {},
   "outputs": [
    {
     "data": {
      "text/plain": [
       "<matplotlib.axes._subplots.AxesSubplot at 0x1a26c85a50>"
      ]
     },
     "execution_count": 148,
     "metadata": {},
     "output_type": "execute_result"
    },
    {
     "data": {
      "image/png": "[encoded data removed]",
      "text/plain": [
       "<Figure size 432x288 with 1 Axes>"
      ]
     },
     "metadata": {
      "needs_background": "light"
     },
     "output_type": "display_data"
    }
   ],
   "source": [
    "# Plot transformed venue value\n",
    "venues_gdf.boxcox_likes.hist(bins=5)"
   ]
  },
  {
   "cell_type": "code",
   "execution_count": 160,
   "metadata": {},
   "outputs": [
    {
     "data": {
      "text/html": [
       "<div>\n",
       "<style scoped>\n",
       "    .dataframe tbody tr th:only-of-type {\n",
       "        vertical-align: middle;\n",
       "    }\n",
       "\n",
       "    .dataframe tbody tr th {\n",
       "        vertical-align: top;\n",
       "    }\n",
       "\n",
       "    .dataframe thead th {\n",
       "        text-align: right;\n",
       "    }\n",
       "</style>\n",
       "<table border=\"1\" class=\"dataframe\">\n",
       "  <thead>\n",
       "    <tr style=\"text-align: right;\">\n",
       "      <th></th>\n",
       "      <th>city</th>\n",
       "      <th>id</th>\n",
       "      <th>name</th>\n",
       "      <th>category</th>\n",
       "      <th>geometry</th>\n",
       "      <th>likes</th>\n",
       "      <th>log_likes</th>\n",
       "      <th>boxcox_likes</th>\n",
       "      <th>venue_value</th>\n",
       "    </tr>\n",
       "  </thead>\n",
       "  <tbody>\n",
       "    <tr>\n",
       "      <td>0</td>\n",
       "      <td>Bangkok</td>\n",
       "      <td>5d89ecb2ebc5f800083c9c72</td>\n",
       "      <td>วนิดาฟาร์ม ร้านอาหารทะเล ฟาร์มสเตย์ และบ่อตกปล...</td>\n",
       "      <td>Restaurant</td>\n",
       "      <td>POINT (100.08018 13.42733)</td>\n",
       "      <td>0.0</td>\n",
       "      <td>0.000000</td>\n",
       "      <td>0.000000</td>\n",
       "      <td>zero</td>\n",
       "    </tr>\n",
       "    <tr>\n",
       "      <td>1</td>\n",
       "      <td>Bangkok</td>\n",
       "      <td>4f979611e4b0107577b7473d</td>\n",
       "      <td>น้ำดื่มไลออนคิงส์</td>\n",
       "      <td>Deli / Bodega</td>\n",
       "      <td>POINT (100.07984 13.42660)</td>\n",
       "      <td>0.0</td>\n",
       "      <td>0.000000</td>\n",
       "      <td>0.000000</td>\n",
       "      <td>zero</td>\n",
       "    </tr>\n",
       "    <tr>\n",
       "      <td>2</td>\n",
       "      <td>Bangkok</td>\n",
       "      <td>4f019036c5126f14b907d325</td>\n",
       "      <td>ครัวแสงดาว</td>\n",
       "      <td>Seafood Restaurant</td>\n",
       "      <td>POINT (100.09205 13.43016)</td>\n",
       "      <td>0.0</td>\n",
       "      <td>0.000000</td>\n",
       "      <td>0.000000</td>\n",
       "      <td>zero</td>\n",
       "    </tr>\n",
       "    <tr>\n",
       "      <td>3</td>\n",
       "      <td>Bangkok</td>\n",
       "      <td>4f2a1166e4b0d4e47d2b0990</td>\n",
       "      <td>อังเคิ้ลอาหารตามสั่ง ในปั้มน้ำมันบางจาก</td>\n",
       "      <td>Restaurant</td>\n",
       "      <td>POINT (100.07888 13.44924)</td>\n",
       "      <td>0.0</td>\n",
       "      <td>0.000000</td>\n",
       "      <td>0.000000</td>\n",
       "      <td>zero</td>\n",
       "    </tr>\n",
       "    <tr>\n",
       "      <td>4</td>\n",
       "      <td>Bangkok</td>\n",
       "      <td>4ee0b7b80e01452f928d12ee</td>\n",
       "      <td>ลาบยโส ด่านช่างพระราม2 บางโทรัด  สมุทรสาคร</td>\n",
       "      <td>Thai Restaurant</td>\n",
       "      <td>POINT (100.07936 13.44986)</td>\n",
       "      <td>0.0</td>\n",
       "      <td>0.000000</td>\n",
       "      <td>0.000000</td>\n",
       "      <td>zero</td>\n",
       "    </tr>\n",
       "    <tr>\n",
       "      <td>...</td>\n",
       "      <td>...</td>\n",
       "      <td>...</td>\n",
       "      <td>...</td>\n",
       "      <td>...</td>\n",
       "      <td>...</td>\n",
       "      <td>...</td>\n",
       "      <td>...</td>\n",
       "      <td>...</td>\n",
       "      <td>...</td>\n",
       "    </tr>\n",
       "    <tr>\n",
       "      <td>56384</td>\n",
       "      <td>Bangkok</td>\n",
       "      <td>4e5a1b4c52b1b78b81a5ab1d</td>\n",
       "      <td>เรือนรับรองโรงเรียนเตรียม</td>\n",
       "      <td>Thai Restaurant</td>\n",
       "      <td>POINT (101.12332 14.30844)</td>\n",
       "      <td>2.0</td>\n",
       "      <td>1.098612</td>\n",
       "      <td>0.631281</td>\n",
       "      <td>high</td>\n",
       "    </tr>\n",
       "    <tr>\n",
       "      <td>56385</td>\n",
       "      <td>Bangkok</td>\n",
       "      <td>4feab941e4b07f87a595eb68</td>\n",
       "      <td>ร้านกาแฟพี่กุ้ง</td>\n",
       "      <td>Coffee Shop</td>\n",
       "      <td>POINT (101.11967 14.30635)</td>\n",
       "      <td>0.0</td>\n",
       "      <td>0.000000</td>\n",
       "      <td>0.000000</td>\n",
       "      <td>zero</td>\n",
       "    </tr>\n",
       "    <tr>\n",
       "      <td>56386</td>\n",
       "      <td>Bangkok</td>\n",
       "      <td>4fbdc0d8e4b06a0de5ba961b</td>\n",
       "      <td>ก๋วยเตี๋ยวห้อยขา @ รร.เตรียมทหาร</td>\n",
       "      <td>Noodle House</td>\n",
       "      <td>POINT (101.12011 14.30625)</td>\n",
       "      <td>0.0</td>\n",
       "      <td>0.000000</td>\n",
       "      <td>0.000000</td>\n",
       "      <td>zero</td>\n",
       "    </tr>\n",
       "    <tr>\n",
       "      <td>56387</td>\n",
       "      <td>Bangkok</td>\n",
       "      <td>5683b4e2498e95633f18c3bf</td>\n",
       "      <td>Wine I Love You Sweet Cafe</td>\n",
       "      <td>Donut Shop</td>\n",
       "      <td>POINT (101.11607 14.30994)</td>\n",
       "      <td>0.0</td>\n",
       "      <td>0.000000</td>\n",
       "      <td>0.000000</td>\n",
       "      <td>zero</td>\n",
       "    </tr>\n",
       "    <tr>\n",
       "      <td>56388</td>\n",
       "      <td>Bangkok</td>\n",
       "      <td>4dfcedb5d22d879302f709d3</td>\n",
       "      <td>ข้าวต้มอ๊อดอ๊อด</td>\n",
       "      <td>Food</td>\n",
       "      <td>POINT (101.21884 13.58082)</td>\n",
       "      <td>0.0</td>\n",
       "      <td>0.000000</td>\n",
       "      <td>0.000000</td>\n",
       "      <td>zero</td>\n",
       "    </tr>\n",
       "  </tbody>\n",
       "</table>\n",
       "<p>56383 rows × 9 columns</p>\n",
       "</div>"
      ],
      "text/plain": [
       "          city                        id  \\\n",
       "0      Bangkok  5d89ecb2ebc5f800083c9c72   \n",
       "1      Bangkok  4f979611e4b0107577b7473d   \n",
       "2      Bangkok  4f019036c5126f14b907d325   \n",
       "3      Bangkok  4f2a1166e4b0d4e47d2b0990   \n",
       "4      Bangkok  4ee0b7b80e01452f928d12ee   \n",
       "...        ...                       ...   \n",
       "56384  Bangkok  4e5a1b4c52b1b78b81a5ab1d   \n",
       "56385  Bangkok  4feab941e4b07f87a595eb68   \n",
       "56386  Bangkok  4fbdc0d8e4b06a0de5ba961b   \n",
       "56387  Bangkok  5683b4e2498e95633f18c3bf   \n",
       "56388  Bangkok  4dfcedb5d22d879302f709d3   \n",
       "\n",
       "                                                    name            category  \\\n",
       "0      วนิดาฟาร์ม ร้านอาหารทะเล ฟาร์มสเตย์ และบ่อตกปล...          Restaurant   \n",
       "1                                      น้ำดื่มไลออนคิงส์       Deli / Bodega   \n",
       "2                                             ครัวแสงดาว  Seafood Restaurant   \n",
       "3                อังเคิ้ลอาหารตามสั่ง ในปั้มน้ำมันบางจาก          Restaurant   \n",
       "4             ลาบยโส ด่านช่างพระราม2 บางโทรัด  สมุทรสาคร     Thai Restaurant   \n",
       "...                                                  ...                 ...   \n",
       "56384                          เรือนรับรองโรงเรียนเตรียม     Thai Restaurant   \n",
       "56385                                    ร้านกาแฟพี่กุ้ง         Coffee Shop   \n",
       "56386                   ก๋วยเตี๋ยวห้อยขา @ รร.เตรียมทหาร        Noodle House   \n",
       "56387                         Wine I Love You Sweet Cafe          Donut Shop   \n",
       "56388                                    ข้าวต้มอ๊อดอ๊อด                Food   \n",
       "\n",
       "                         geometry  likes  log_likes  boxcox_likes venue_value  \n",
       "0      POINT (100.08018 13.42733)    0.0   0.000000      0.000000        zero  \n",
       "1      POINT (100.07984 13.42660)    0.0   0.000000      0.000000        zero  \n",
       "2      POINT (100.09205 13.43016)    0.0   0.000000      0.000000        zero  \n",
       "3      POINT (100.07888 13.44924)    0.0   0.000000      0.000000        zero  \n",
       "4      POINT (100.07936 13.44986)    0.0   0.000000      0.000000        zero  \n",
       "...                           ...    ...        ...           ...         ...  \n",
       "56384  POINT (101.12332 14.30844)    2.0   1.098612      0.631281        high  \n",
       "56385  POINT (101.11967 14.30635)    0.0   0.000000      0.000000        zero  \n",
       "56386  POINT (101.12011 14.30625)    0.0   0.000000      0.000000        zero  \n",
       "56387  POINT (101.11607 14.30994)    0.0   0.000000      0.000000        zero  \n",
       "56388  POINT (101.21884 13.58082)    0.0   0.000000      0.000000        zero  \n",
       "\n",
       "[56383 rows x 9 columns]"
      ]
     },
     "execution_count": 160,
     "metadata": {},
     "output_type": "execute_result"
    }
   ],
   "source": [
    "# Since it is unlikely that greater than half of food venues provide zero value,\n",
    "# convert boxcox_likes to ordinal values\n",
    "venue_values=[\"zero\",\"low\",\"medium\",\"high\",\"highest\"]\n",
    "venues_gdf['venue_value'] = pd.cut(venues_gdf.boxcox_likes, 5, labels=venue_values)\n",
    "venues_gdf"
   ]
  },
  {
   "cell_type": "code",
   "execution_count": 235,
   "metadata": {},
   "outputs": [
    {
     "data": {
      "image/png": "[encoded data removed]",
      "text/plain": [
       "<Figure size 720x72 with 1 Axes>"
      ]
     },
     "metadata": {
      "needs_background": "light"
     },
     "output_type": "display_data"
    }
   ],
   "source": [
    "# Plot distribution of weighted venue values\n",
    "N = len(venues_gdf)\n",
    "height = 0.02\n",
    "counts = venues_gdf.venue_value.value_counts()\n",
    "\n",
    "zero_count = counts[venue_values[0]]\n",
    "low_count = counts[venue_values[1]]\n",
    "med_count = counts[venue_values[2]]\n",
    "high_count = counts[venue_values[3]]\n",
    "highest_count = counts[venue_values[4]]\n",
    "\n",
    "fig = plt.figure(figsize=(10,1))\n",
    "ax = plt.subplot(111)\n",
    "\n",
    "bar_zero = ax.barh(0, zero_count, height)\n",
    "bar_low = ax.barh(0, low_count, height, left=zero_count)\n",
    "bar_med = ax.barh(0, med_count, height, left=low_count+zero_count)\n",
    "bar_high = ax.barh(0, high_count, height, left=med_count+low_count+zero_count)\n",
    "bar_highest = ax.barh(0, highest_count, height, left=high_count+med_count+low_count+zero_count)\n",
    "\n",
    "ax.set_title('Venue Value Categories')\n",
    "ax.set_xlim(0,N)\n",
    "ax.set_yticks([])\n",
    "ax.legend((bar_zero[0], bar_low[0], bar_med[0], bar_high[0], bar_highest[0]),\\\n",
    "           tuple(venue_values), loc=\"upper left\", bbox_to_anchor=(1,1))\n",
    "plt.show()"
   ]
  },
  {
   "cell_type": "code",
   "execution_count": 264,
   "metadata": {},
   "outputs": [
    {
     "name": "stdout",
     "output_type": "stream",
     "text": [
      "zero category range: 0.0 - 0.0\n",
      "low category range: nan - nan\n",
      "medium category range: 1.0 - 1.0\n",
      "high category range: 2.0 - 3.0\n",
      "higheset category range: 4.0 - 1216.0\n"
     ]
    }
   ],
   "source": [
    "# Examine distribution\n",
    "print(\"zero category range: {} - {}\".format(\n",
    "    venues_gdf[venues_gdf.venue_value=='zero'].likes.min(),\n",
    "    venues_gdf[venues_gdf.venue_value=='zero'].likes.max()))\n",
    "print(\"low category range: {} - {}\".format(\n",
    "    venues_gdf[venues_gdf.venue_value=='low'].likes.min(),\n",
    "    venues_gdf[venues_gdf.venue_value=='low'].likes.max()))\n",
    "print(\"medium category range: {} - {}\".format(\n",
    "    venues_gdf[venues_gdf.venue_value=='medium'].likes.min(),\n",
    "    venues_gdf[venues_gdf.venue_value=='medium'].likes.max()))\n",
    "print(\"high category range: {} - {}\".format(\n",
    "    venues_gdf[venues_gdf.venue_value=='high'].likes.min(),\n",
    "    venues_gdf[venues_gdf.venue_value=='high'].likes.max()))\n",
    "print(\"higheset category range: {} - {}\".format(\n",
    "    venues_gdf[venues_gdf.venue_value=='highest'].likes.min(),\n",
    "    venues_gdf[venues_gdf.venue_value=='highest'].likes.max()))"
   ]
  },
  {
   "cell_type": "markdown",
   "metadata": {},
   "source": [
    "## Apply weights to Venue Likes buckets\n",
    "<a id='likes-weights'></a>"
   ]
  },
  {
   "cell_type": "code",
   "execution_count": 278,
   "metadata": {},
   "outputs": [
    {
     "data": {
      "text/html": [
       "<div>\n",
       "<style scoped>\n",
       "    .dataframe tbody tr th:only-of-type {\n",
       "        vertical-align: middle;\n",
       "    }\n",
       "\n",
       "    .dataframe tbody tr th {\n",
       "        vertical-align: top;\n",
       "    }\n",
       "\n",
       "    .dataframe thead th {\n",
       "        text-align: right;\n",
       "    }\n",
       "</style>\n",
       "<table border=\"1\" class=\"dataframe\">\n",
       "  <thead>\n",
       "    <tr style=\"text-align: right;\">\n",
       "      <th></th>\n",
       "      <th>city</th>\n",
       "      <th>id</th>\n",
       "      <th>name</th>\n",
       "      <th>category</th>\n",
       "      <th>geometry</th>\n",
       "      <th>likes</th>\n",
       "      <th>log_likes</th>\n",
       "      <th>boxcox_likes</th>\n",
       "      <th>venue_value</th>\n",
       "      <th>venue_value_weight</th>\n",
       "    </tr>\n",
       "  </thead>\n",
       "  <tbody>\n",
       "    <tr>\n",
       "      <td>0</td>\n",
       "      <td>Bangkok</td>\n",
       "      <td>5d89ecb2ebc5f800083c9c72</td>\n",
       "      <td>วนิดาฟาร์ม ร้านอาหารทะเล ฟาร์มสเตย์ และบ่อตกปล...</td>\n",
       "      <td>Restaurant</td>\n",
       "      <td>POINT (100.08018 13.42733)</td>\n",
       "      <td>0.0</td>\n",
       "      <td>0.000000</td>\n",
       "      <td>0.000000</td>\n",
       "      <td>zero</td>\n",
       "      <td>0.25</td>\n",
       "    </tr>\n",
       "    <tr>\n",
       "      <td>1</td>\n",
       "      <td>Bangkok</td>\n",
       "      <td>4f979611e4b0107577b7473d</td>\n",
       "      <td>น้ำดื่มไลออนคิงส์</td>\n",
       "      <td>Deli / Bodega</td>\n",
       "      <td>POINT (100.07984 13.42660)</td>\n",
       "      <td>0.0</td>\n",
       "      <td>0.000000</td>\n",
       "      <td>0.000000</td>\n",
       "      <td>zero</td>\n",
       "      <td>0.25</td>\n",
       "    </tr>\n",
       "    <tr>\n",
       "      <td>2</td>\n",
       "      <td>Bangkok</td>\n",
       "      <td>4f019036c5126f14b907d325</td>\n",
       "      <td>ครัวแสงดาว</td>\n",
       "      <td>Seafood Restaurant</td>\n",
       "      <td>POINT (100.09205 13.43016)</td>\n",
       "      <td>0.0</td>\n",
       "      <td>0.000000</td>\n",
       "      <td>0.000000</td>\n",
       "      <td>zero</td>\n",
       "      <td>0.25</td>\n",
       "    </tr>\n",
       "    <tr>\n",
       "      <td>3</td>\n",
       "      <td>Bangkok</td>\n",
       "      <td>4f2a1166e4b0d4e47d2b0990</td>\n",
       "      <td>อังเคิ้ลอาหารตามสั่ง ในปั้มน้ำมันบางจาก</td>\n",
       "      <td>Restaurant</td>\n",
       "      <td>POINT (100.07888 13.44924)</td>\n",
       "      <td>0.0</td>\n",
       "      <td>0.000000</td>\n",
       "      <td>0.000000</td>\n",
       "      <td>zero</td>\n",
       "      <td>0.25</td>\n",
       "    </tr>\n",
       "    <tr>\n",
       "      <td>4</td>\n",
       "      <td>Bangkok</td>\n",
       "      <td>4ee0b7b80e01452f928d12ee</td>\n",
       "      <td>ลาบยโส ด่านช่างพระราม2 บางโทรัด  สมุทรสาคร</td>\n",
       "      <td>Thai Restaurant</td>\n",
       "      <td>POINT (100.07936 13.44986)</td>\n",
       "      <td>0.0</td>\n",
       "      <td>0.000000</td>\n",
       "      <td>0.000000</td>\n",
       "      <td>zero</td>\n",
       "      <td>0.25</td>\n",
       "    </tr>\n",
       "    <tr>\n",
       "      <td>...</td>\n",
       "      <td>...</td>\n",
       "      <td>...</td>\n",
       "      <td>...</td>\n",
       "      <td>...</td>\n",
       "      <td>...</td>\n",
       "      <td>...</td>\n",
       "      <td>...</td>\n",
       "      <td>...</td>\n",
       "      <td>...</td>\n",
       "      <td>...</td>\n",
       "    </tr>\n",
       "    <tr>\n",
       "      <td>56384</td>\n",
       "      <td>Bangkok</td>\n",
       "      <td>4e5a1b4c52b1b78b81a5ab1d</td>\n",
       "      <td>เรือนรับรองโรงเรียนเตรียม</td>\n",
       "      <td>Thai Restaurant</td>\n",
       "      <td>POINT (101.12332 14.30844)</td>\n",
       "      <td>2.0</td>\n",
       "      <td>1.098612</td>\n",
       "      <td>0.631281</td>\n",
       "      <td>high</td>\n",
       "      <td>0.75</td>\n",
       "    </tr>\n",
       "    <tr>\n",
       "      <td>56385</td>\n",
       "      <td>Bangkok</td>\n",
       "      <td>4feab941e4b07f87a595eb68</td>\n",
       "      <td>ร้านกาแฟพี่กุ้ง</td>\n",
       "      <td>Coffee Shop</td>\n",
       "      <td>POINT (101.11967 14.30635)</td>\n",
       "      <td>0.0</td>\n",
       "      <td>0.000000</td>\n",
       "      <td>0.000000</td>\n",
       "      <td>zero</td>\n",
       "      <td>0.25</td>\n",
       "    </tr>\n",
       "    <tr>\n",
       "      <td>56386</td>\n",
       "      <td>Bangkok</td>\n",
       "      <td>4fbdc0d8e4b06a0de5ba961b</td>\n",
       "      <td>ก๋วยเตี๋ยวห้อยขา @ รร.เตรียมทหาร</td>\n",
       "      <td>Noodle House</td>\n",
       "      <td>POINT (101.12011 14.30625)</td>\n",
       "      <td>0.0</td>\n",
       "      <td>0.000000</td>\n",
       "      <td>0.000000</td>\n",
       "      <td>zero</td>\n",
       "      <td>0.25</td>\n",
       "    </tr>\n",
       "    <tr>\n",
       "      <td>56387</td>\n",
       "      <td>Bangkok</td>\n",
       "      <td>5683b4e2498e95633f18c3bf</td>\n",
       "      <td>Wine I Love You Sweet Cafe</td>\n",
       "      <td>Donut Shop</td>\n",
       "      <td>POINT (101.11607 14.30994)</td>\n",
       "      <td>0.0</td>\n",
       "      <td>0.000000</td>\n",
       "      <td>0.000000</td>\n",
       "      <td>zero</td>\n",
       "      <td>0.25</td>\n",
       "    </tr>\n",
       "    <tr>\n",
       "      <td>56388</td>\n",
       "      <td>Bangkok</td>\n",
       "      <td>4dfcedb5d22d879302f709d3</td>\n",
       "      <td>ข้าวต้มอ๊อดอ๊อด</td>\n",
       "      <td>Food</td>\n",
       "      <td>POINT (101.21884 13.58082)</td>\n",
       "      <td>0.0</td>\n",
       "      <td>0.000000</td>\n",
       "      <td>0.000000</td>\n",
       "      <td>zero</td>\n",
       "      <td>0.25</td>\n",
       "    </tr>\n",
       "  </tbody>\n",
       "</table>\n",
       "<p>56383 rows × 10 columns</p>\n",
       "</div>"
      ],
      "text/plain": [
       "          city                        id  \\\n",
       "0      Bangkok  5d89ecb2ebc5f800083c9c72   \n",
       "1      Bangkok  4f979611e4b0107577b7473d   \n",
       "2      Bangkok  4f019036c5126f14b907d325   \n",
       "3      Bangkok  4f2a1166e4b0d4e47d2b0990   \n",
       "4      Bangkok  4ee0b7b80e01452f928d12ee   \n",
       "...        ...                       ...   \n",
       "56384  Bangkok  4e5a1b4c52b1b78b81a5ab1d   \n",
       "56385  Bangkok  4feab941e4b07f87a595eb68   \n",
       "56386  Bangkok  4fbdc0d8e4b06a0de5ba961b   \n",
       "56387  Bangkok  5683b4e2498e95633f18c3bf   \n",
       "56388  Bangkok  4dfcedb5d22d879302f709d3   \n",
       "\n",
       "                                                    name            category  \\\n",
       "0      วนิดาฟาร์ม ร้านอาหารทะเล ฟาร์มสเตย์ และบ่อตกปล...          Restaurant   \n",
       "1                                      น้ำดื่มไลออนคิงส์       Deli / Bodega   \n",
       "2                                             ครัวแสงดาว  Seafood Restaurant   \n",
       "3                อังเคิ้ลอาหารตามสั่ง ในปั้มน้ำมันบางจาก          Restaurant   \n",
       "4             ลาบยโส ด่านช่างพระราม2 บางโทรัด  สมุทรสาคร     Thai Restaurant   \n",
       "...                                                  ...                 ...   \n",
       "56384                          เรือนรับรองโรงเรียนเตรียม     Thai Restaurant   \n",
       "56385                                    ร้านกาแฟพี่กุ้ง         Coffee Shop   \n",
       "56386                   ก๋วยเตี๋ยวห้อยขา @ รร.เตรียมทหาร        Noodle House   \n",
       "56387                         Wine I Love You Sweet Cafe          Donut Shop   \n",
       "56388                                    ข้าวต้มอ๊อดอ๊อด                Food   \n",
       "\n",
       "                         geometry  likes  log_likes  boxcox_likes venue_value  \\\n",
       "0      POINT (100.08018 13.42733)    0.0   0.000000      0.000000        zero   \n",
       "1      POINT (100.07984 13.42660)    0.0   0.000000      0.000000        zero   \n",
       "2      POINT (100.09205 13.43016)    0.0   0.000000      0.000000        zero   \n",
       "3      POINT (100.07888 13.44924)    0.0   0.000000      0.000000        zero   \n",
       "4      POINT (100.07936 13.44986)    0.0   0.000000      0.000000        zero   \n",
       "...                           ...    ...        ...           ...         ...   \n",
       "56384  POINT (101.12332 14.30844)    2.0   1.098612      0.631281        high   \n",
       "56385  POINT (101.11967 14.30635)    0.0   0.000000      0.000000        zero   \n",
       "56386  POINT (101.12011 14.30625)    0.0   0.000000      0.000000        zero   \n",
       "56387  POINT (101.11607 14.30994)    0.0   0.000000      0.000000        zero   \n",
       "56388  POINT (101.21884 13.58082)    0.0   0.000000      0.000000        zero   \n",
       "\n",
       "      venue_value_weight  \n",
       "0                   0.25  \n",
       "1                   0.25  \n",
       "2                   0.25  \n",
       "3                   0.25  \n",
       "4                   0.25  \n",
       "...                  ...  \n",
       "56384               0.75  \n",
       "56385               0.25  \n",
       "56386               0.25  \n",
       "56387               0.25  \n",
       "56388               0.25  \n",
       "\n",
       "[56383 rows x 10 columns]"
      ]
     },
     "execution_count": 278,
     "metadata": {},
     "output_type": "execute_result"
    }
   ],
   "source": [
    "# After log transform, secondary category drops out with no members\n",
    "# This also helps us maintain interpretability\n",
    "\n",
    "venue_value_weights = {\n",
    "    'zero': 0.25,\n",
    "    'low': 0, # we expect none\n",
    "    'medium': 0.5,\n",
    "    'high': 0.75,\n",
    "    'highest': 1\n",
    "}\n",
    "\n",
    "venues_gdf['venue_value_weight'] = venues_gdf.venue_value.apply(lambda x: venue_value_weights[x])\n",
    "venues_gdf"
   ]
  },
  {
   "cell_type": "code",
   "execution_count": 281,
   "metadata": {},
   "outputs": [
    {
     "data": {
      "text/plain": [
       "dtype('float64')"
      ]
     },
     "execution_count": 281,
     "metadata": {},
     "output_type": "execute_result"
    }
   ],
   "source": [
    "venues_gdf.venue_value_weight = venues_gdf.venue_value_weight.astype(float)\n",
    "venues_gdf.venue_value_weight.dtype"
   ]
  },
  {
   "cell_type": "code",
   "execution_count": 302,
   "metadata": {},
   "outputs": [],
   "source": [
    "venues_gdf[['id', 'category', 'geometry', 'likes', 'venue_value_weight']].to_file('data/Bangkok_venue_values.geojson', driver='GeoJSON')"
   ]
  }
 ],
 "metadata": {
  "kernelspec": {
   "display_name": "Python 3",
   "language": "python",
   "name": "python3"
  },
  "language_info": {
   "codemirror_mode": {
    "name": "ipython",
    "version": 3
   },
   "file_extension": ".py",
   "mimetype": "text/x-python",
   "name": "python",
   "nbconvert_exporter": "python",
   "pygments_lexer": "ipython3",
   "version": "3.7.4"
  }
 },
 "nbformat": 4,
 "nbformat_minor": 2
}
