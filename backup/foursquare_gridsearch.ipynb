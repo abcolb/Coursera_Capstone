{
 "cells": [
  {
   "cell_type": "markdown",
   "metadata": {},
   "source": [
    "# Foursquare Grid Search"
   ]
  },
  {
   "cell_type": "code",
   "execution_count": 1,
   "metadata": {},
   "outputs": [],
   "source": [
    "import pandas as pd\n",
    "import numpy as np\n",
    "\n",
    "import re\n",
    "import json\n",
    "\n",
    "import geopandas as gpd\n",
    "\n",
    "import matplotlib.pyplot as plt\n",
    "\n",
    "from foursquare import search_city_venues"
   ]
  },
  {
   "cell_type": "markdown",
   "metadata": {},
   "source": [
    "## Foursquare gridsearch\n",
    "<a id=\"gridsearch\"/>"
   ]
  },
  {
   "cell_type": "code",
   "execution_count": 2,
   "metadata": {},
   "outputs": [],
   "source": [
    "# Helper to request, plot, and save city venues, given city name\n",
    "def request_plot_save_venues(city_name=''):\n",
    "    if not city_name:\n",
    "        return\n",
    "    \n",
    "    trimmed_city_name = \"\".join(re.findall(\"[a-zA-Z]+\", city_name))\n",
    "    print('trimmed', trimmed_city_name)\n",
    "    try:\n",
    "        geo_df = gpd.read_file(f'data/{trimmed_city_name}_grid.geojson')\n",
    "    \n",
    "    except:\n",
    "        print('Exception occurred. Unable to find file')\n",
    "        return\n",
    "        \n",
    "    print(len(geo_df))\n",
    "\n",
    "    venues_list = search_city_venues(city_name, grid=geo_df.geometry)\n",
    "    venues = pd.DataFrame(venues_list)\n",
    "\n",
    "    plt.scatter(x='Venue Latitude', y='Venue Longitude', data=venues)\n",
    "    plt.show()\n",
    "\n",
    "    venues.to_csv(f'data/{trimmed_city_name}_grid_venues.csv')\n"
   ]
  },
  {
   "cell_type": "code",
   "execution_count": null,
   "metadata": {},
   "outputs": [],
   "source": [
    "# Can be used to batch requests\n",
    "# [request_plot_save_venues(i) for i in ratings.Centre]"
   ]
  },
  {
   "cell_type": "code",
   "execution_count": null,
   "metadata": {},
   "outputs": [],
   "source": []
  },
  {
   "cell_type": "code",
   "execution_count": null,
   "metadata": {},
   "outputs": [],
   "source": []
  }
 ],
 "metadata": {
  "kernelspec": {
   "display_name": "Python 3",
   "language": "python",
   "name": "python3"
  },
  "language_info": {
   "codemirror_mode": {
    "name": "ipython",
    "version": 3
   },
   "file_extension": ".py",
   "mimetype": "text/x-python",
   "name": "python",
   "nbconvert_exporter": "python",
   "pygments_lexer": "ipython3",
   "version": "3.7.4"
  }
 },
 "nbformat": 4,
 "nbformat_minor": 2
}
