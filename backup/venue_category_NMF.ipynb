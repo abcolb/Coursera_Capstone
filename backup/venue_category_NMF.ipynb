{
 "cells": [
  {
   "cell_type": "code",
   "execution_count": 66,
   "metadata": {},
   "outputs": [],
   "source": [
    "import pandas as pd\n",
    "import numpy as np\n",
    "\n",
    "import matplotlib.pyplot as plt\n",
    "\n",
    "from sklearn.model_selection import KFold\n",
    "from sklearn.decomposition import SparsePCA, NMF\n",
    "from sklearn.metrics import mean_squared_error #explained_variance_score\n",
    "\n",
    "from scipy.sparse import csr_matrix"
   ]
  },
  {
   "cell_type": "markdown",
   "metadata": {},
   "source": [
    "## Dimensionality Reduction on 1011 Venue Categories\n",
    "\n",
    "This sort of sparce matrix of frequencies 0 to 1 highly resembles TF-IDF. \n",
    "We can apply the same dimentionality reduction techniques as we might to text. \n",
    "In the text case, NMF itentifies patterns in documents (topics). In our case, \n",
    "we look for patterns in venue types."
   ]
  },
  {
   "cell_type": "code",
   "execution_count": 46,
   "metadata": {},
   "outputs": [
    {
     "data": {
      "text/html": [
       "<div>\n",
       "<style scoped>\n",
       "    .dataframe tbody tr th:only-of-type {\n",
       "        vertical-align: middle;\n",
       "    }\n",
       "\n",
       "    .dataframe tbody tr th {\n",
       "        vertical-align: top;\n",
       "    }\n",
       "\n",
       "    .dataframe thead th {\n",
       "        text-align: right;\n",
       "    }\n",
       "</style>\n",
       "<table border=\"1\" class=\"dataframe\">\n",
       "  <thead>\n",
       "    <tr style=\"text-align: right;\">\n",
       "      <th></th>\n",
       "      <th>Богданов и партнеры\"\"\"</th>\n",
       "      <th>\"\"dakineshop.ru\"\"\"</th>\n",
       "      <th>117\"\"\"</th>\n",
       "      <th>12\"\"\"</th>\n",
       "      <th>13\"\"\"</th>\n",
       "      <th>17\"\"\"</th>\n",
       "      <th>18\"\"\"</th>\n",
       "      <th>18.\"</th>\n",
       "      <th>34\"\"\"</th>\n",
       "      <th>38\"\"\"</th>\n",
       "      <th>...</th>\n",
       "      <th>Zhejiang Restaurant</th>\n",
       "      <th>Zoo</th>\n",
       "      <th>Zoo Exhibit</th>\n",
       "      <th>quando e dove vuoi tu \"\"\"</th>\n",
       "      <th>Çöp Şiş Place</th>\n",
       "      <th>Корпорация СБР\"</th>\n",
       "      <th>д.24\"\"\"</th>\n",
       "      <th>не Дай Другим\"\"\"</th>\n",
       "      <th>площадка #2\"</th>\n",
       "      <th>студия звукозаписи.\"</th>\n",
       "    </tr>\n",
       "    <tr>\n",
       "      <th>City</th>\n",
       "      <th></th>\n",
       "      <th></th>\n",
       "      <th></th>\n",
       "      <th></th>\n",
       "      <th></th>\n",
       "      <th></th>\n",
       "      <th></th>\n",
       "      <th></th>\n",
       "      <th></th>\n",
       "      <th></th>\n",
       "      <th></th>\n",
       "      <th></th>\n",
       "      <th></th>\n",
       "      <th></th>\n",
       "      <th></th>\n",
       "      <th></th>\n",
       "      <th></th>\n",
       "      <th></th>\n",
       "      <th></th>\n",
       "      <th></th>\n",
       "      <th></th>\n",
       "    </tr>\n",
       "  </thead>\n",
       "  <tbody>\n",
       "    <tr>\n",
       "      <td>Bangalore</td>\n",
       "      <td>0.0</td>\n",
       "      <td>0.0</td>\n",
       "      <td>0.0</td>\n",
       "      <td>0.0</td>\n",
       "      <td>0.0</td>\n",
       "      <td>0.0</td>\n",
       "      <td>0.0</td>\n",
       "      <td>0.0</td>\n",
       "      <td>0.0</td>\n",
       "      <td>0.0</td>\n",
       "      <td>...</td>\n",
       "      <td>0.0000</td>\n",
       "      <td>0.000000</td>\n",
       "      <td>0.000071</td>\n",
       "      <td>0.0</td>\n",
       "      <td>0.000000</td>\n",
       "      <td>0.0</td>\n",
       "      <td>0.0</td>\n",
       "      <td>0.0</td>\n",
       "      <td>0.0</td>\n",
       "      <td>0.0</td>\n",
       "    </tr>\n",
       "    <tr>\n",
       "      <td>Tangerang</td>\n",
       "      <td>0.0</td>\n",
       "      <td>0.0</td>\n",
       "      <td>0.0</td>\n",
       "      <td>0.0</td>\n",
       "      <td>0.0</td>\n",
       "      <td>0.0</td>\n",
       "      <td>0.0</td>\n",
       "      <td>0.0</td>\n",
       "      <td>0.0</td>\n",
       "      <td>0.0</td>\n",
       "      <td>...</td>\n",
       "      <td>0.0000</td>\n",
       "      <td>0.000000</td>\n",
       "      <td>0.000256</td>\n",
       "      <td>0.0</td>\n",
       "      <td>0.000000</td>\n",
       "      <td>0.0</td>\n",
       "      <td>0.0</td>\n",
       "      <td>0.0</td>\n",
       "      <td>0.0</td>\n",
       "      <td>0.0</td>\n",
       "    </tr>\n",
       "    <tr>\n",
       "      <td>Casablanca</td>\n",
       "      <td>0.0</td>\n",
       "      <td>0.0</td>\n",
       "      <td>0.0</td>\n",
       "      <td>0.0</td>\n",
       "      <td>0.0</td>\n",
       "      <td>0.0</td>\n",
       "      <td>0.0</td>\n",
       "      <td>0.0</td>\n",
       "      <td>0.0</td>\n",
       "      <td>0.0</td>\n",
       "      <td>...</td>\n",
       "      <td>0.0000</td>\n",
       "      <td>0.000322</td>\n",
       "      <td>0.000322</td>\n",
       "      <td>0.0</td>\n",
       "      <td>0.000000</td>\n",
       "      <td>0.0</td>\n",
       "      <td>0.0</td>\n",
       "      <td>0.0</td>\n",
       "      <td>0.0</td>\n",
       "      <td>0.0</td>\n",
       "    </tr>\n",
       "    <tr>\n",
       "      <td>Cairo</td>\n",
       "      <td>0.0</td>\n",
       "      <td>0.0</td>\n",
       "      <td>0.0</td>\n",
       "      <td>0.0</td>\n",
       "      <td>0.0</td>\n",
       "      <td>0.0</td>\n",
       "      <td>0.0</td>\n",
       "      <td>0.0</td>\n",
       "      <td>0.0</td>\n",
       "      <td>0.0</td>\n",
       "      <td>...</td>\n",
       "      <td>0.0000</td>\n",
       "      <td>0.000000</td>\n",
       "      <td>0.000000</td>\n",
       "      <td>0.0</td>\n",
       "      <td>0.000000</td>\n",
       "      <td>0.0</td>\n",
       "      <td>0.0</td>\n",
       "      <td>0.0</td>\n",
       "      <td>0.0</td>\n",
       "      <td>0.0</td>\n",
       "    </tr>\n",
       "    <tr>\n",
       "      <td>Phoenix</td>\n",
       "      <td>0.0</td>\n",
       "      <td>0.0</td>\n",
       "      <td>0.0</td>\n",
       "      <td>0.0</td>\n",
       "      <td>0.0</td>\n",
       "      <td>0.0</td>\n",
       "      <td>0.0</td>\n",
       "      <td>0.0</td>\n",
       "      <td>0.0</td>\n",
       "      <td>0.0</td>\n",
       "      <td>...</td>\n",
       "      <td>0.0000</td>\n",
       "      <td>0.000000</td>\n",
       "      <td>0.000539</td>\n",
       "      <td>0.0</td>\n",
       "      <td>0.000000</td>\n",
       "      <td>0.0</td>\n",
       "      <td>0.0</td>\n",
       "      <td>0.0</td>\n",
       "      <td>0.0</td>\n",
       "      <td>0.0</td>\n",
       "    </tr>\n",
       "    <tr>\n",
       "      <td>...</td>\n",
       "      <td>...</td>\n",
       "      <td>...</td>\n",
       "      <td>...</td>\n",
       "      <td>...</td>\n",
       "      <td>...</td>\n",
       "      <td>...</td>\n",
       "      <td>...</td>\n",
       "      <td>...</td>\n",
       "      <td>...</td>\n",
       "      <td>...</td>\n",
       "      <td>...</td>\n",
       "      <td>...</td>\n",
       "      <td>...</td>\n",
       "      <td>...</td>\n",
       "      <td>...</td>\n",
       "      <td>...</td>\n",
       "      <td>...</td>\n",
       "      <td>...</td>\n",
       "      <td>...</td>\n",
       "      <td>...</td>\n",
       "      <td>...</td>\n",
       "    </tr>\n",
       "    <tr>\n",
       "      <td>Munich</td>\n",
       "      <td>0.0</td>\n",
       "      <td>0.0</td>\n",
       "      <td>0.0</td>\n",
       "      <td>0.0</td>\n",
       "      <td>0.0</td>\n",
       "      <td>0.0</td>\n",
       "      <td>0.0</td>\n",
       "      <td>0.0</td>\n",
       "      <td>0.0</td>\n",
       "      <td>0.0</td>\n",
       "      <td>...</td>\n",
       "      <td>0.0000</td>\n",
       "      <td>0.000000</td>\n",
       "      <td>0.000000</td>\n",
       "      <td>0.0</td>\n",
       "      <td>0.000000</td>\n",
       "      <td>0.0</td>\n",
       "      <td>0.0</td>\n",
       "      <td>0.0</td>\n",
       "      <td>0.0</td>\n",
       "      <td>0.0</td>\n",
       "    </tr>\n",
       "    <tr>\n",
       "      <td>Bogotá</td>\n",
       "      <td>0.0</td>\n",
       "      <td>0.0</td>\n",
       "      <td>0.0</td>\n",
       "      <td>0.0</td>\n",
       "      <td>0.0</td>\n",
       "      <td>0.0</td>\n",
       "      <td>0.0</td>\n",
       "      <td>0.0</td>\n",
       "      <td>0.0</td>\n",
       "      <td>0.0</td>\n",
       "      <td>...</td>\n",
       "      <td>0.0000</td>\n",
       "      <td>0.000000</td>\n",
       "      <td>0.000144</td>\n",
       "      <td>0.0</td>\n",
       "      <td>0.000000</td>\n",
       "      <td>0.0</td>\n",
       "      <td>0.0</td>\n",
       "      <td>0.0</td>\n",
       "      <td>0.0</td>\n",
       "      <td>0.0</td>\n",
       "    </tr>\n",
       "    <tr>\n",
       "      <td>Makasar</td>\n",
       "      <td>0.0</td>\n",
       "      <td>0.0</td>\n",
       "      <td>0.0</td>\n",
       "      <td>0.0</td>\n",
       "      <td>0.0</td>\n",
       "      <td>0.0</td>\n",
       "      <td>0.0</td>\n",
       "      <td>0.0</td>\n",
       "      <td>0.0</td>\n",
       "      <td>0.0</td>\n",
       "      <td>...</td>\n",
       "      <td>0.0000</td>\n",
       "      <td>0.000000</td>\n",
       "      <td>0.000000</td>\n",
       "      <td>0.0</td>\n",
       "      <td>0.000000</td>\n",
       "      <td>0.0</td>\n",
       "      <td>0.0</td>\n",
       "      <td>0.0</td>\n",
       "      <td>0.0</td>\n",
       "      <td>0.0</td>\n",
       "    </tr>\n",
       "    <tr>\n",
       "      <td>Izmir</td>\n",
       "      <td>0.0</td>\n",
       "      <td>0.0</td>\n",
       "      <td>0.0</td>\n",
       "      <td>0.0</td>\n",
       "      <td>0.0</td>\n",
       "      <td>0.0</td>\n",
       "      <td>0.0</td>\n",
       "      <td>0.0</td>\n",
       "      <td>0.0</td>\n",
       "      <td>0.0</td>\n",
       "      <td>...</td>\n",
       "      <td>0.0000</td>\n",
       "      <td>0.000238</td>\n",
       "      <td>0.000357</td>\n",
       "      <td>0.0</td>\n",
       "      <td>0.000079</td>\n",
       "      <td>0.0</td>\n",
       "      <td>0.0</td>\n",
       "      <td>0.0</td>\n",
       "      <td>0.0</td>\n",
       "      <td>0.0</td>\n",
       "    </tr>\n",
       "    <tr>\n",
       "      <td>Shanghai</td>\n",
       "      <td>0.0</td>\n",
       "      <td>0.0</td>\n",
       "      <td>0.0</td>\n",
       "      <td>0.0</td>\n",
       "      <td>0.0</td>\n",
       "      <td>0.0</td>\n",
       "      <td>0.0</td>\n",
       "      <td>0.0</td>\n",
       "      <td>0.0</td>\n",
       "      <td>0.0</td>\n",
       "      <td>...</td>\n",
       "      <td>0.0015</td>\n",
       "      <td>0.000237</td>\n",
       "      <td>0.000158</td>\n",
       "      <td>0.0</td>\n",
       "      <td>0.000000</td>\n",
       "      <td>0.0</td>\n",
       "      <td>0.0</td>\n",
       "      <td>0.0</td>\n",
       "      <td>0.0</td>\n",
       "      <td>0.0</td>\n",
       "    </tr>\n",
       "  </tbody>\n",
       "</table>\n",
       "<p>250 rows × 1011 columns</p>\n",
       "</div>"
      ],
      "text/plain": [
       "              Богданов и партнеры\"\"\"   \"\"dakineshop.ru\"\"\"   117\"\"\"   12\"\"\"  \\\n",
       "City                                                                         \n",
       "Bangalore                        0.0                  0.0      0.0     0.0   \n",
       "Tangerang                        0.0                  0.0      0.0     0.0   \n",
       "Casablanca                       0.0                  0.0      0.0     0.0   \n",
       "Cairo                            0.0                  0.0      0.0     0.0   \n",
       "Phoenix                          0.0                  0.0      0.0     0.0   \n",
       "...                              ...                  ...      ...     ...   \n",
       "Munich                           0.0                  0.0      0.0     0.0   \n",
       "Bogotá                           0.0                  0.0      0.0     0.0   \n",
       "Makasar                          0.0                  0.0      0.0     0.0   \n",
       "Izmir                            0.0                  0.0      0.0     0.0   \n",
       "Shanghai                         0.0                  0.0      0.0     0.0   \n",
       "\n",
       "             13\"\"\"   17\"\"\"   18\"\"\"   18.\"   34\"\"\"   38\"\"\"  ...  \\\n",
       "City                                                       ...   \n",
       "Bangalore      0.0     0.0     0.0    0.0     0.0     0.0  ...   \n",
       "Tangerang      0.0     0.0     0.0    0.0     0.0     0.0  ...   \n",
       "Casablanca     0.0     0.0     0.0    0.0     0.0     0.0  ...   \n",
       "Cairo          0.0     0.0     0.0    0.0     0.0     0.0  ...   \n",
       "Phoenix        0.0     0.0     0.0    0.0     0.0     0.0  ...   \n",
       "...            ...     ...     ...    ...     ...     ...  ...   \n",
       "Munich         0.0     0.0     0.0    0.0     0.0     0.0  ...   \n",
       "Bogotá         0.0     0.0     0.0    0.0     0.0     0.0  ...   \n",
       "Makasar        0.0     0.0     0.0    0.0     0.0     0.0  ...   \n",
       "Izmir          0.0     0.0     0.0    0.0     0.0     0.0  ...   \n",
       "Shanghai       0.0     0.0     0.0    0.0     0.0     0.0  ...   \n",
       "\n",
       "            Zhejiang Restaurant       Zoo  Zoo Exhibit  \\\n",
       "City                                                     \n",
       "Bangalore                0.0000  0.000000     0.000071   \n",
       "Tangerang                0.0000  0.000000     0.000256   \n",
       "Casablanca               0.0000  0.000322     0.000322   \n",
       "Cairo                    0.0000  0.000000     0.000000   \n",
       "Phoenix                  0.0000  0.000000     0.000539   \n",
       "...                         ...       ...          ...   \n",
       "Munich                   0.0000  0.000000     0.000000   \n",
       "Bogotá                   0.0000  0.000000     0.000144   \n",
       "Makasar                  0.0000  0.000000     0.000000   \n",
       "Izmir                    0.0000  0.000238     0.000357   \n",
       "Shanghai                 0.0015  0.000237     0.000158   \n",
       "\n",
       "            quando e dove vuoi tu \"\"\"  Çöp Şiş Place  Корпорация СБР\"  \\\n",
       "City                                                                    \n",
       "Bangalore                         0.0       0.000000              0.0   \n",
       "Tangerang                         0.0       0.000000              0.0   \n",
       "Casablanca                        0.0       0.000000              0.0   \n",
       "Cairo                             0.0       0.000000              0.0   \n",
       "Phoenix                           0.0       0.000000              0.0   \n",
       "...                               ...            ...              ...   \n",
       "Munich                            0.0       0.000000              0.0   \n",
       "Bogotá                            0.0       0.000000              0.0   \n",
       "Makasar                           0.0       0.000000              0.0   \n",
       "Izmir                             0.0       0.000079              0.0   \n",
       "Shanghai                          0.0       0.000000              0.0   \n",
       "\n",
       "            д.24\"\"\"  не Дай Другим\"\"\"  площадка #2\"  студия звукозаписи.\"  \n",
       "City                                                                       \n",
       "Bangalore       0.0               0.0           0.0                   0.0  \n",
       "Tangerang       0.0               0.0           0.0                   0.0  \n",
       "Casablanca      0.0               0.0           0.0                   0.0  \n",
       "Cairo           0.0               0.0           0.0                   0.0  \n",
       "Phoenix         0.0               0.0           0.0                   0.0  \n",
       "...             ...               ...           ...                   ...  \n",
       "Munich          0.0               0.0           0.0                   0.0  \n",
       "Bogotá          0.0               0.0           0.0                   0.0  \n",
       "Makasar         0.0               0.0           0.0                   0.0  \n",
       "Izmir           0.0               0.0           0.0                   0.0  \n",
       "Shanghai        0.0               0.0           0.0                   0.0  \n",
       "\n",
       "[250 rows x 1011 columns]"
      ]
     },
     "execution_count": 46,
     "metadata": {},
     "output_type": "execute_result"
    }
   ],
   "source": [
    "venue_frequency = pd.read_csv('data/world_venues_frequency.csv', index_col=0)\n",
    "venue_frequency"
   ]
  },
  {
   "cell_type": "code",
   "execution_count": 34,
   "metadata": {},
   "outputs": [
    {
     "data": {
      "text/plain": [
       "array([8.79557839e-02, 1.61837438e-07, 1.61837438e-07, ...,\n",
       "       1.61837438e-07, 3.51764380e-07, 1.61837438e-07])"
      ]
     },
     "execution_count": 34,
     "metadata": {},
     "output_type": "execute_result"
    }
   ],
   "source": [
    "venue_frequency.mean().values"
   ]
  },
  {
   "cell_type": "code",
   "execution_count": 47,
   "metadata": {},
   "outputs": [
    {
     "data": {
      "text/plain": [
       "[<matplotlib.lines.Line2D at 0x1a29ec6810>]"
      ]
     },
     "execution_count": 47,
     "metadata": {},
     "output_type": "execute_result"
    },
    {
     "data": {
      "image/png": "[encoded data removed]",
      "text/plain": [
       "<Figure size 432x288 with 1 Axes>"
      ]
     },
     "metadata": {
      "needs_background": "light"
     },
     "output_type": "display_data"
    }
   ],
   "source": [
    "plt.plot(venue_frequency.mean().values)"
   ]
  },
  {
   "cell_type": "code",
   "execution_count": 52,
   "metadata": {},
   "outputs": [
    {
     "data": {
      "text/plain": [
       "Index(['Bank', 'Building', 'Café', 'Factory', 'Hotel', 'Office',\n",
       "       'Residential Building (Apartment / Condo)', 'Road'],\n",
       "      dtype='object')"
      ]
     },
     "execution_count": 52,
     "metadata": {},
     "output_type": "execute_result"
    }
   ],
   "source": [
    "venue_frequency.columns[venue_frequency.mean() > 0.015]"
   ]
  },
  {
   "cell_type": "code",
   "execution_count": 3,
   "metadata": {},
   "outputs": [],
   "source": [
    "# This sort of sparce matrix of frequencies 0 to 1 highly resembles TF-IDF. \n",
    "# We can apply the same dimentionality reduction techniques as we might to text. \n",
    "# In the text case, NMF itentifies patterns in topics. In our case, we look for \n",
    "# patterns in venue types."
   ]
  },
  {
   "cell_type": "code",
   "execution_count": 57,
   "metadata": {},
   "outputs": [
    {
     "data": {
      "text/plain": [
       "1011"
      ]
     },
     "execution_count": 57,
     "metadata": {},
     "output_type": "execute_result"
    }
   ],
   "source": [
    "len(venue_frequency.columns)"
   ]
  },
  {
   "cell_type": "code",
   "execution_count": 54,
   "metadata": {},
   "outputs": [
    {
     "data": {
      "text/plain": [
       "<250x1011 sparse matrix of type '<class 'numpy.float64'>'\n",
       "\twith 88480 stored elements in Compressed Sparse Row format>"
      ]
     },
     "execution_count": 54,
     "metadata": {},
     "output_type": "execute_result"
    }
   ],
   "source": [
    "freq_matrix = csr_matrix(venue_frequency)\n",
    "freq_matrix"
   ]
  },
  {
   "cell_type": "code",
   "execution_count": null,
   "metadata": {},
   "outputs": [],
   "source": []
  },
  {
   "cell_type": "code",
   "execution_count": 11,
   "metadata": {},
   "outputs": [],
   "source": [
    "nmf_dict = {}"
   ]
  },
  {
   "cell_type": "code",
   "execution_count": 71,
   "metadata": {},
   "outputs": [
    {
     "data": {
      "text/plain": [
       "[(9.186196591858323e-06, 9.274638760357097e-06),\n",
       " (8.08576270122535e-06, 8.601682892956463e-06),\n",
       " (7.152922051928595e-06, 7.437076847008564e-06),\n",
       " (6.5006951642059985e-06, 7.01736994591303e-06),\n",
       " (5.918437833395653e-06, 6.483468849586428e-06),\n",
       " (5.397446988695204e-06, 6.053750263356219e-06),\n",
       " (4.957421696510067e-06, 5.72636391657135e-06),\n",
       " (4.550343401030641e-06, 5.496389403067538e-06),\n",
       " (4.242558073672963e-06, 5.23391768605488e-06),\n",
       " (3.9646929075041906e-06, 5.00693465810989e-06),\n",
       " (3.7041410593490007e-06, 4.801939242537532e-06),\n",
       " (3.4826381235028634e-06, 4.615771219716101e-06),\n",
       " (3.2622427672875513e-06, 4.427893713058426e-06),\n",
       " (3.0939687626595912e-06, 4.259592678222009e-06),\n",
       " (2.9283454869870827e-06, 4.013581551203551e-06),\n",
       " (2.7879422057863317e-06, 3.852771247800895e-06),\n",
       " (2.670222699377996e-06, 3.7543556119119343e-06),\n",
       " (2.5466828524272343e-06, 3.6407503159560688e-06),\n",
       " (2.447311444098347e-06, 3.5944612403869497e-06),\n",
       " (2.3422673596191157e-06, 3.512457381873588e-06),\n",
       " (2.253115510332695e-06, 3.4234578354203257e-06),\n",
       " (2.1722985122211277e-06, 3.398404991034847e-06),\n",
       " (2.091124998272201e-06, 3.2961726980353316e-06),\n",
       " (2.0135517287949988e-06, 3.2606417730590805e-06),\n",
       " (1.9432911297005564e-06, 3.2164329786066224e-06),\n",
       " (1.8728533448833925e-06, 3.185254200202836e-06),\n",
       " (1.8164124443086956e-06, 3.1251079667550026e-06),\n",
       " (1.7590393345487585e-06, 3.048572301874532e-06),\n",
       " (1.7033454735297551e-06, 3.0222761850242427e-06),\n",
       " (1.6474711262117425e-06, 2.9765087722708907e-06),\n",
       " (1.593570106793129e-06, 2.9495592892928533e-06),\n",
       " (1.548080825730819e-06, 2.9057737141359817e-06),\n",
       " (1.5035673502704613e-06, 2.894225836660275e-06),\n",
       " (1.4737469667636356e-06, 2.8728817683501698e-06),\n",
       " (1.423784068229392e-06, 2.835950034944773e-06),\n",
       " (1.3910379215399258e-06, 2.8307956707697287e-06),\n",
       " (1.349106265199729e-06, 2.742918611819922e-06),\n",
       " (1.3193614145728283e-06, 2.7997389823183148e-06),\n",
       " (1.2819734003340192e-06, 2.781069106482321e-06),\n",
       " (1.2529200795645693e-06, 2.7431324129767123e-06),\n",
       " (1.2177033757499605e-06, 2.6471236176389636e-06),\n",
       " (1.1895751869332287e-06, 2.6419850538094736e-06),\n",
       " (1.1644683034071342e-06, 2.6840444129514228e-06),\n",
       " (1.128345039251596e-06, 2.629451273697305e-06),\n",
       " (1.1047418459889642e-06, 2.5907119142541068e-06),\n",
       " (1.0757013428383557e-06, 2.5380945761059114e-06),\n",
       " (1.0485944992403114e-06, 2.5208482147292503e-06),\n",
       " (1.0222130972874816e-06, 2.536017683145583e-06),\n",
       " (1.0033971017833066e-06, 2.4922881306640694e-06),\n",
       " (9.875583486984178e-07, 2.484430714602939e-06),\n",
       " (9.540036886441852e-07, 2.4518031097990893e-06),\n",
       " (9.329656014068548e-07, 2.4295370235374834e-06),\n",
       " (9.166093335589528e-07, 2.426954602151803e-06),\n",
       " (9.029469311470074e-07, 2.4207127762571064e-06),\n",
       " (8.788710951889414e-07, 2.3911849663295826e-06),\n",
       " (8.526287219221008e-07, 2.3720154668983923e-06),\n",
       " (8.362832721094025e-07, 2.3905950373642124e-06),\n",
       " (8.164769564601333e-07, 2.3832808982265454e-06),\n",
       " (7.959310788981894e-07, 2.349599235070307e-06),\n",
       " (7.885395989397444e-07, 2.3092863299680396e-06),\n",
       " (7.657709833424398e-07, 2.2881380643056215e-06),\n",
       " (7.475300040874274e-07, 2.311162262766522e-06),\n",
       " (7.352162512685104e-07, 2.2700968571929245e-06),\n",
       " (7.194614708336522e-07, 2.2422552607413813e-06),\n",
       " (7.022347427808714e-07, 2.2688767025504206e-06),\n",
       " (6.890588586432933e-07, 2.2465372923708943e-06),\n",
       " (6.743923712276744e-07, 2.2579824120449855e-06),\n",
       " (6.61678726205792e-07, 2.226323485551666e-06),\n",
       " (6.469355340143295e-07, 2.2318752676865697e-06),\n",
       " (6.336345742660328e-07, 2.2323742508723584e-06),\n",
       " (6.198968324766964e-07, 2.217296022270073e-06),\n",
       " (6.087973988034516e-07, 2.213988863906473e-06),\n",
       " (5.979210712590563e-07, 2.2280148036359033e-06),\n",
       " (5.812188076166626e-07, 2.1804064939164105e-06),\n",
       " (5.73081073130342e-07, 2.1669195944636553e-06),\n",
       " (5.61167735751343e-07, 2.159651030831495e-06),\n",
       " (5.467173314247886e-07, 2.1644967347905083e-06),\n",
       " (5.37507693733651e-07, 2.1482073919492676e-06),\n",
       " (5.290889786207718e-07, 2.1363634545920762e-06),\n",
       " (5.17465846918686e-07, 2.138773012458414e-06),\n",
       " (5.054414829813285e-07, 2.1048213705992737e-06),\n",
       " (4.915888058478881e-07, 2.1436956737560915e-06),\n",
       " (4.865056767550065e-07, 2.1134698754252002e-06),\n",
       " (4.7557593338616766e-07, 2.137361200733828e-06),\n",
       " (4.65865075221316e-07, 2.052783703043882e-06),\n",
       " (4.5984699057386436e-07, 2.0880258479839325e-06),\n",
       " (4.4585964779262684e-07, 2.0721910651435428e-06),\n",
       " (4.3811251244754553e-07, 2.1270771853200417e-06),\n",
       " (4.2572423095744615e-07, 2.0852343509051727e-06),\n",
       " (4.1961921764476663e-07, 2.0944896463752635e-06),\n",
       " (4.1050532116605346e-07, 2.0772418334559886e-06),\n",
       " (4.003268508791187e-07, 2.06946460007263e-06),\n",
       " (3.9161034093466927e-07, 2.0677460091071535e-06),\n",
       " (3.885861133828966e-07, 2.0451064179663596e-06),\n",
       " (3.7909634059461163e-07, 2.0580158597129e-06),\n",
       " (3.6839602813770065e-07, 2.057650591651349e-06),\n",
       " (3.616828583251008e-07, 2.016454754423725e-06),\n",
       " (3.537510450959671e-07, 2.049493001509458e-06),\n",
       " (3.4647663900035385e-07, 2.0040560197919667e-06),\n",
       " (3.3994843831478097e-07, 2.0249315243485908e-06)]"
      ]
     },
     "execution_count": 71,
     "metadata": {},
     "output_type": "execute_result"
    }
   ],
   "source": [
    "X = freq_matrix\n",
    "\n",
    "nmf_results = []\n",
    "\n",
    "for i in range(1,101):\n",
    "    \n",
    "    folds = KFold(n_splits=5)\n",
    "    train_scores = []\n",
    "    test_scores = []\n",
    "\n",
    "    for train_index, test_index in folds.split(X):\n",
    "        X_train, X_test = X[train_index], X[test_index]\n",
    "\n",
    "        model = NMF(n_components=i)\n",
    "\n",
    "        model.fit(X_train)\n",
    "        nmf_features = model.transform(X_train)\n",
    "        \n",
    "        predict_train = model.inverse_transform(model.transform(X_train))\n",
    "        score_train = mean_squared_error(X_train.toarray(), predict_train)\n",
    "        train_scores.append(score_train)\n",
    "\n",
    "        predict_test = model.inverse_transform(model.transform(X_test))\n",
    "        score_test = mean_squared_error(X_test.toarray(), predict_test)\n",
    "        test_scores.append(score_test)\n",
    "\n",
    "#         nmf_dict[i][test_index]['features'] = nmf_features\n",
    "#         nmf_dict[i][test_index]['components'] = model.components_\n",
    "        \n",
    "        # Print the NMF features\n",
    "#         print('FEATURES', nmf_features)\n",
    "#         print('COMPONENTS', model.components_)\n",
    "        \n",
    "    nmf_results.append({'train_score': np.mean(train_scores), 'test_score': np.mean(test_scores)})\n",
    "\n",
    "results = [(r.get('train_score'), r.get('test_score')) for r in nmf_results]\n",
    "results"
   ]
  },
  {
   "cell_type": "code",
   "execution_count": 64,
   "metadata": {},
   "outputs": [
    {
     "data": {
      "image/png": "[encoded data removed]",
      "text/plain": [
       "<Figure size 432x288 with 1 Axes>"
      ]
     },
     "metadata": {
      "needs_background": "light"
     },
     "output_type": "display_data"
    }
   ],
   "source": [
    "plt.plot(results)\n",
    "plt.title('Selecting number of latent factors')\n",
    "plt.xlabel('Num latent factors')\n",
    "plt.ylabel('Explained variance')\n",
    "plt.show()"
   ]
  },
  {
   "cell_type": "code",
   "execution_count": 70,
   "metadata": {},
   "outputs": [
    {
     "data": {
      "image/png": "[encoded data removed]",
      "text/plain": [
       "<Figure size 432x288 with 1 Axes>"
      ]
     },
     "metadata": {
      "needs_background": "light"
     },
     "output_type": "display_data"
    }
   ],
   "source": [
    "plt.plot(results)\n",
    "plt.title('Selecting number of latent factors')\n",
    "plt.xlabel('Num latent factors')\n",
    "plt.ylabel('Reconstruction error')\n",
    "plt.show()"
   ]
  },
  {
   "cell_type": "code",
   "execution_count": null,
   "metadata": {},
   "outputs": [],
   "source": []
  },
  {
   "cell_type": "code",
   "execution_count": null,
   "metadata": {},
   "outputs": [],
   "source": []
  },
  {
   "cell_type": "code",
   "execution_count": null,
   "metadata": {},
   "outputs": [],
   "source": []
  },
  {
   "cell_type": "code",
   "execution_count": 59,
   "metadata": {},
   "outputs": [],
   "source": [
    "# http://statweb.stanford.edu/~owen/reports/AOAS227.pdf\n",
    "# Try using bi-cross validation (column + row holdout set)"
   ]
  },
  {
   "cell_type": "code",
   "execution_count": null,
   "metadata": {},
   "outputs": [],
   "source": []
  },
  {
   "cell_type": "code",
   "execution_count": null,
   "metadata": {},
   "outputs": [],
   "source": []
  },
  {
   "cell_type": "code",
   "execution_count": null,
   "metadata": {},
   "outputs": [],
   "source": []
  },
  {
   "cell_type": "code",
   "execution_count": null,
   "metadata": {},
   "outputs": [],
   "source": []
  },
  {
   "cell_type": "code",
   "execution_count": null,
   "metadata": {},
   "outputs": [],
   "source": []
  },
  {
   "cell_type": "code",
   "execution_count": null,
   "metadata": {},
   "outputs": [],
   "source": [
    "# https://towardsdatascience.com/how-to-use-cross-validation-for-matrix-completion-2b14103d2c4c\n",
    "# "
   ]
  },
  {
   "cell_type": "code",
   "execution_count": null,
   "metadata": {},
   "outputs": [],
   "source": [
    "# X = np.array([[1, 2], [3, 4], [1, 2], [3, 4]]) # create an array\n",
    "# y = np.array([1, 2, 3, 4]) # Create another array\n",
    "# kf = KFold(n_splits=2) # Define the split - into 2 folds \n",
    "# kf.get_n_splits(X) # returns the number of splitting iterations in the cross-validator\n",
    "# print(kf) \n",
    "# folds.get_n_splits()\n",
    "\n"
   ]
  },
  {
   "cell_type": "code",
   "execution_count": null,
   "metadata": {},
   "outputs": [],
   "source": []
  },
  {
   "cell_type": "code",
   "execution_count": null,
   "metadata": {},
   "outputs": [],
   "source": []
  },
  {
   "cell_type": "code",
   "execution_count": 12,
   "metadata": {},
   "outputs": [],
   "source": [
    "# Try adding penalty terms (making it supervised)"
   ]
  },
  {
   "cell_type": "code",
   "execution_count": null,
   "metadata": {},
   "outputs": [],
   "source": []
  },
  {
   "cell_type": "code",
   "execution_count": 18,
   "metadata": {},
   "outputs": [
    {
     "ename": "ValueError",
     "evalue": "Cannot center sparse matrices: pass `with_mean=False` instead. See docstring for motivation and alternatives.",
     "output_type": "error",
     "traceback": [
      "\u001b[0;31m---------------------------------------------------------------------------\u001b[0m",
      "\u001b[0;31mValueError\u001b[0m                                Traceback (most recent call last)",
      "\u001b[0;32m<ipython-input-18-88ff23c9599c>\u001b[0m in \u001b[0;36m<module>\u001b[0;34m\u001b[0m\n\u001b[1;32m     14\u001b[0m \u001b[0;34m\u001b[0m\u001b[0m\n\u001b[1;32m     15\u001b[0m \u001b[0;31m# Fit the pipeline to 'samples'\u001b[0m\u001b[0;34m\u001b[0m\u001b[0;34m\u001b[0m\u001b[0;34m\u001b[0m\u001b[0m\n\u001b[0;32m---> 16\u001b[0;31m \u001b[0mpipeline\u001b[0m\u001b[0;34m.\u001b[0m\u001b[0mfit\u001b[0m\u001b[0;34m(\u001b[0m\u001b[0mX\u001b[0m\u001b[0;34m)\u001b[0m\u001b[0;34m\u001b[0m\u001b[0;34m\u001b[0m\u001b[0m\n\u001b[0m\u001b[1;32m     17\u001b[0m \u001b[0;34m\u001b[0m\u001b[0m\n\u001b[1;32m     18\u001b[0m \u001b[0;31m# Plot the explained variances\u001b[0m\u001b[0;34m\u001b[0m\u001b[0;34m\u001b[0m\u001b[0;34m\u001b[0m\u001b[0m\n",
      "\u001b[0;32m/opt/anaconda3/lib/python3.7/site-packages/sklearn/pipeline.py\u001b[0m in \u001b[0;36mfit\u001b[0;34m(self, X, y, **fit_params)\u001b[0m\n\u001b[1;32m    350\u001b[0m             \u001b[0mThis\u001b[0m \u001b[0mestimator\u001b[0m\u001b[0;34m\u001b[0m\u001b[0;34m\u001b[0m\u001b[0m\n\u001b[1;32m    351\u001b[0m         \"\"\"\n\u001b[0;32m--> 352\u001b[0;31m         \u001b[0mXt\u001b[0m\u001b[0;34m,\u001b[0m \u001b[0mfit_params\u001b[0m \u001b[0;34m=\u001b[0m \u001b[0mself\u001b[0m\u001b[0;34m.\u001b[0m\u001b[0m_fit\u001b[0m\u001b[0;34m(\u001b[0m\u001b[0mX\u001b[0m\u001b[0;34m,\u001b[0m \u001b[0my\u001b[0m\u001b[0;34m,\u001b[0m \u001b[0;34m**\u001b[0m\u001b[0mfit_params\u001b[0m\u001b[0;34m)\u001b[0m\u001b[0;34m\u001b[0m\u001b[0;34m\u001b[0m\u001b[0m\n\u001b[0m\u001b[1;32m    353\u001b[0m         with _print_elapsed_time('Pipeline',\n\u001b[1;32m    354\u001b[0m                                  self._log_message(len(self.steps) - 1)):\n",
      "\u001b[0;32m/opt/anaconda3/lib/python3.7/site-packages/sklearn/pipeline.py\u001b[0m in \u001b[0;36m_fit\u001b[0;34m(self, X, y, **fit_params)\u001b[0m\n\u001b[1;32m    315\u001b[0m                 \u001b[0mmessage_clsname\u001b[0m\u001b[0;34m=\u001b[0m\u001b[0;34m'Pipeline'\u001b[0m\u001b[0;34m,\u001b[0m\u001b[0;34m\u001b[0m\u001b[0;34m\u001b[0m\u001b[0m\n\u001b[1;32m    316\u001b[0m                 \u001b[0mmessage\u001b[0m\u001b[0;34m=\u001b[0m\u001b[0mself\u001b[0m\u001b[0;34m.\u001b[0m\u001b[0m_log_message\u001b[0m\u001b[0;34m(\u001b[0m\u001b[0mstep_idx\u001b[0m\u001b[0;34m)\u001b[0m\u001b[0;34m,\u001b[0m\u001b[0;34m\u001b[0m\u001b[0;34m\u001b[0m\u001b[0m\n\u001b[0;32m--> 317\u001b[0;31m                 **fit_params_steps[name])\n\u001b[0m\u001b[1;32m    318\u001b[0m             \u001b[0;31m# Replace the transformer of the step with the fitted\u001b[0m\u001b[0;34m\u001b[0m\u001b[0;34m\u001b[0m\u001b[0;34m\u001b[0m\u001b[0m\n\u001b[1;32m    319\u001b[0m             \u001b[0;31m# transformer. This is necessary when loading the transformer\u001b[0m\u001b[0;34m\u001b[0m\u001b[0;34m\u001b[0m\u001b[0;34m\u001b[0m\u001b[0m\n",
      "\u001b[0;32m/opt/anaconda3/lib/python3.7/site-packages/joblib/memory.py\u001b[0m in \u001b[0;36m__call__\u001b[0;34m(self, *args, **kwargs)\u001b[0m\n\u001b[1;32m    353\u001b[0m \u001b[0;34m\u001b[0m\u001b[0m\n\u001b[1;32m    354\u001b[0m     \u001b[0;32mdef\u001b[0m \u001b[0m__call__\u001b[0m\u001b[0;34m(\u001b[0m\u001b[0mself\u001b[0m\u001b[0;34m,\u001b[0m \u001b[0;34m*\u001b[0m\u001b[0margs\u001b[0m\u001b[0;34m,\u001b[0m \u001b[0;34m**\u001b[0m\u001b[0mkwargs\u001b[0m\u001b[0;34m)\u001b[0m\u001b[0;34m:\u001b[0m\u001b[0;34m\u001b[0m\u001b[0;34m\u001b[0m\u001b[0m\n\u001b[0;32m--> 355\u001b[0;31m         \u001b[0;32mreturn\u001b[0m \u001b[0mself\u001b[0m\u001b[0;34m.\u001b[0m\u001b[0mfunc\u001b[0m\u001b[0;34m(\u001b[0m\u001b[0;34m*\u001b[0m\u001b[0margs\u001b[0m\u001b[0;34m,\u001b[0m \u001b[0;34m**\u001b[0m\u001b[0mkwargs\u001b[0m\u001b[0;34m)\u001b[0m\u001b[0;34m\u001b[0m\u001b[0;34m\u001b[0m\u001b[0m\n\u001b[0m\u001b[1;32m    356\u001b[0m \u001b[0;34m\u001b[0m\u001b[0m\n\u001b[1;32m    357\u001b[0m     \u001b[0;32mdef\u001b[0m \u001b[0mcall_and_shelve\u001b[0m\u001b[0;34m(\u001b[0m\u001b[0mself\u001b[0m\u001b[0;34m,\u001b[0m \u001b[0;34m*\u001b[0m\u001b[0margs\u001b[0m\u001b[0;34m,\u001b[0m \u001b[0;34m**\u001b[0m\u001b[0mkwargs\u001b[0m\u001b[0;34m)\u001b[0m\u001b[0;34m:\u001b[0m\u001b[0;34m\u001b[0m\u001b[0;34m\u001b[0m\u001b[0m\n",
      "\u001b[0;32m/opt/anaconda3/lib/python3.7/site-packages/sklearn/pipeline.py\u001b[0m in \u001b[0;36m_fit_transform_one\u001b[0;34m(transformer, X, y, weight, message_clsname, message, **fit_params)\u001b[0m\n\u001b[1;32m    714\u001b[0m     \u001b[0;32mwith\u001b[0m \u001b[0m_print_elapsed_time\u001b[0m\u001b[0;34m(\u001b[0m\u001b[0mmessage_clsname\u001b[0m\u001b[0;34m,\u001b[0m \u001b[0mmessage\u001b[0m\u001b[0;34m)\u001b[0m\u001b[0;34m:\u001b[0m\u001b[0;34m\u001b[0m\u001b[0;34m\u001b[0m\u001b[0m\n\u001b[1;32m    715\u001b[0m         \u001b[0;32mif\u001b[0m \u001b[0mhasattr\u001b[0m\u001b[0;34m(\u001b[0m\u001b[0mtransformer\u001b[0m\u001b[0;34m,\u001b[0m \u001b[0;34m'fit_transform'\u001b[0m\u001b[0;34m)\u001b[0m\u001b[0;34m:\u001b[0m\u001b[0;34m\u001b[0m\u001b[0;34m\u001b[0m\u001b[0m\n\u001b[0;32m--> 716\u001b[0;31m             \u001b[0mres\u001b[0m \u001b[0;34m=\u001b[0m \u001b[0mtransformer\u001b[0m\u001b[0;34m.\u001b[0m\u001b[0mfit_transform\u001b[0m\u001b[0;34m(\u001b[0m\u001b[0mX\u001b[0m\u001b[0;34m,\u001b[0m \u001b[0my\u001b[0m\u001b[0;34m,\u001b[0m \u001b[0;34m**\u001b[0m\u001b[0mfit_params\u001b[0m\u001b[0;34m)\u001b[0m\u001b[0;34m\u001b[0m\u001b[0;34m\u001b[0m\u001b[0m\n\u001b[0m\u001b[1;32m    717\u001b[0m         \u001b[0;32melse\u001b[0m\u001b[0;34m:\u001b[0m\u001b[0;34m\u001b[0m\u001b[0;34m\u001b[0m\u001b[0m\n\u001b[1;32m    718\u001b[0m             \u001b[0mres\u001b[0m \u001b[0;34m=\u001b[0m \u001b[0mtransformer\u001b[0m\u001b[0;34m.\u001b[0m\u001b[0mfit\u001b[0m\u001b[0;34m(\u001b[0m\u001b[0mX\u001b[0m\u001b[0;34m,\u001b[0m \u001b[0my\u001b[0m\u001b[0;34m,\u001b[0m \u001b[0;34m**\u001b[0m\u001b[0mfit_params\u001b[0m\u001b[0;34m)\u001b[0m\u001b[0;34m.\u001b[0m\u001b[0mtransform\u001b[0m\u001b[0;34m(\u001b[0m\u001b[0mX\u001b[0m\u001b[0;34m)\u001b[0m\u001b[0;34m\u001b[0m\u001b[0;34m\u001b[0m\u001b[0m\n",
      "\u001b[0;32m/opt/anaconda3/lib/python3.7/site-packages/sklearn/base.py\u001b[0m in \u001b[0;36mfit_transform\u001b[0;34m(self, X, y, **fit_params)\u001b[0m\n\u001b[1;32m    551\u001b[0m         \u001b[0;32mif\u001b[0m \u001b[0my\u001b[0m \u001b[0;32mis\u001b[0m \u001b[0;32mNone\u001b[0m\u001b[0;34m:\u001b[0m\u001b[0;34m\u001b[0m\u001b[0;34m\u001b[0m\u001b[0m\n\u001b[1;32m    552\u001b[0m             \u001b[0;31m# fit method of arity 1 (unsupervised transformation)\u001b[0m\u001b[0;34m\u001b[0m\u001b[0;34m\u001b[0m\u001b[0;34m\u001b[0m\u001b[0m\n\u001b[0;32m--> 553\u001b[0;31m             \u001b[0;32mreturn\u001b[0m \u001b[0mself\u001b[0m\u001b[0;34m.\u001b[0m\u001b[0mfit\u001b[0m\u001b[0;34m(\u001b[0m\u001b[0mX\u001b[0m\u001b[0;34m,\u001b[0m \u001b[0;34m**\u001b[0m\u001b[0mfit_params\u001b[0m\u001b[0;34m)\u001b[0m\u001b[0;34m.\u001b[0m\u001b[0mtransform\u001b[0m\u001b[0;34m(\u001b[0m\u001b[0mX\u001b[0m\u001b[0;34m)\u001b[0m\u001b[0;34m\u001b[0m\u001b[0;34m\u001b[0m\u001b[0m\n\u001b[0m\u001b[1;32m    554\u001b[0m         \u001b[0;32melse\u001b[0m\u001b[0;34m:\u001b[0m\u001b[0;34m\u001b[0m\u001b[0;34m\u001b[0m\u001b[0m\n\u001b[1;32m    555\u001b[0m             \u001b[0;31m# fit method of arity 2 (supervised transformation)\u001b[0m\u001b[0;34m\u001b[0m\u001b[0;34m\u001b[0m\u001b[0;34m\u001b[0m\u001b[0m\n",
      "\u001b[0;32m/opt/anaconda3/lib/python3.7/site-packages/sklearn/preprocessing/data.py\u001b[0m in \u001b[0;36mfit\u001b[0;34m(self, X, y)\u001b[0m\n\u001b[1;32m    637\u001b[0m         \u001b[0;31m# Reset internal state before fitting\u001b[0m\u001b[0;34m\u001b[0m\u001b[0;34m\u001b[0m\u001b[0;34m\u001b[0m\u001b[0m\n\u001b[1;32m    638\u001b[0m         \u001b[0mself\u001b[0m\u001b[0;34m.\u001b[0m\u001b[0m_reset\u001b[0m\u001b[0;34m(\u001b[0m\u001b[0;34m)\u001b[0m\u001b[0;34m\u001b[0m\u001b[0;34m\u001b[0m\u001b[0m\n\u001b[0;32m--> 639\u001b[0;31m         \u001b[0;32mreturn\u001b[0m \u001b[0mself\u001b[0m\u001b[0;34m.\u001b[0m\u001b[0mpartial_fit\u001b[0m\u001b[0;34m(\u001b[0m\u001b[0mX\u001b[0m\u001b[0;34m,\u001b[0m \u001b[0my\u001b[0m\u001b[0;34m)\u001b[0m\u001b[0;34m\u001b[0m\u001b[0;34m\u001b[0m\u001b[0m\n\u001b[0m\u001b[1;32m    640\u001b[0m \u001b[0;34m\u001b[0m\u001b[0m\n\u001b[1;32m    641\u001b[0m     \u001b[0;32mdef\u001b[0m \u001b[0mpartial_fit\u001b[0m\u001b[0;34m(\u001b[0m\u001b[0mself\u001b[0m\u001b[0;34m,\u001b[0m \u001b[0mX\u001b[0m\u001b[0;34m,\u001b[0m \u001b[0my\u001b[0m\u001b[0;34m=\u001b[0m\u001b[0;32mNone\u001b[0m\u001b[0;34m)\u001b[0m\u001b[0;34m:\u001b[0m\u001b[0;34m\u001b[0m\u001b[0;34m\u001b[0m\u001b[0m\n",
      "\u001b[0;32m/opt/anaconda3/lib/python3.7/site-packages/sklearn/preprocessing/data.py\u001b[0m in \u001b[0;36mpartial_fit\u001b[0;34m(self, X, y)\u001b[0m\n\u001b[1;32m    678\u001b[0m             \u001b[0;32mif\u001b[0m \u001b[0mself\u001b[0m\u001b[0;34m.\u001b[0m\u001b[0mwith_mean\u001b[0m\u001b[0;34m:\u001b[0m\u001b[0;34m\u001b[0m\u001b[0;34m\u001b[0m\u001b[0m\n\u001b[1;32m    679\u001b[0m                 raise ValueError(\n\u001b[0;32m--> 680\u001b[0;31m                     \u001b[0;34m\"Cannot center sparse matrices: pass `with_mean=False` \"\u001b[0m\u001b[0;34m\u001b[0m\u001b[0;34m\u001b[0m\u001b[0m\n\u001b[0m\u001b[1;32m    681\u001b[0m                     \"instead. See docstring for motivation and alternatives.\")\n\u001b[1;32m    682\u001b[0m \u001b[0;34m\u001b[0m\u001b[0m\n",
      "\u001b[0;31mValueError\u001b[0m: Cannot center sparse matrices: pass `with_mean=False` instead. See docstring for motivation and alternatives."
     ]
    }
   ],
   "source": [
    "# Perform the necessary imports\n",
    "from sklearn.decomposition import PCA\n",
    "from sklearn.preprocessing import StandardScaler\n",
    "from sklearn.pipeline import make_pipeline\n",
    "\n",
    "# Create scaler: scaler\n",
    "scaler = StandardScaler()\n",
    "\n",
    "# Create a PCA instance: pca\n",
    "pca = PCA()\n",
    "\n",
    "# Create pipeline: pipeline\n",
    "pipeline = make_pipeline(scaler, pca)\n",
    "\n",
    "# Fit the pipeline to 'samples'\n",
    "pipeline.fit(X)\n",
    "\n",
    "# Plot the explained variances\n",
    "features = range(pca.n_components_)\n",
    "plt.bar(features, pca.explained_variance_)\n",
    "plt.xlabel('PCA feature')\n",
    "plt.ylabel('variance')\n",
    "plt.xticks(features)\n",
    "plt.show()"
   ]
  },
  {
   "cell_type": "code",
   "execution_count": 30,
   "metadata": {},
   "outputs": [
    {
     "name": "stdout",
     "output_type": "stream",
     "text": [
      "(252, 20)\n"
     ]
    },
    {
     "data": {
      "text/plain": [
       "array([2.4759061, 0.       , 0.       , 0.       , 0.       , 0.       ,\n",
       "       0.       , 0.       , 0.       , 0.       , 0.       , 0.       ,\n",
       "       0.       , 0.       , 0.       , 0.       , 0.       , 0.       ,\n",
       "       0.       , 0.       ])"
      ]
     },
     "execution_count": 30,
     "metadata": {},
     "output_type": "execute_result"
    }
   ],
   "source": [
    "X = venue_frequency\n",
    "\n",
    "N_COMP = 20\n",
    "\n",
    "# Consider MiniBatchSparsePCA for perf\n",
    "spca = SparsePCA(n_components=N_COMP, random_state=0, normalize_components=True)\n",
    "spca.fit(X)\n",
    "X_transformed = spca.transform(X)\n",
    "print(X_transformed.shape)\n",
    "# >>> # most values in the components_ are zero (sparsity)\n",
    "# >>> np.mean(transformer.components_ == 0)\n",
    "\n",
    "# transformer.components_\n",
    "\n",
    "# p_spca = spca.components_.T\n",
    "t_spca_qr = np.linalg.qr(X_transformed) \n",
    "r = t_spca_qr[1]\n",
    "# compute adjusted variance\n",
    "variance = []\n",
    "for i in range(N_COMP):\n",
    "    variance.append(np.square(r[i][i]))\n",
    "variance = np.array(variance)\n",
    "variance\n",
    "\n",
    "# spca = SparsePCA(n_components=5, alpha=1e-3, ridge_alpha=1e-6, normalize_components=True) # Solve sparse pca\n",
    "# spca.fit(x)\n",
    "# t_spca = spca.transform(x)\n",
    "# p_spca = spca.components_.T\n",
    "# t_spca_qr = np.linalg.qr(t_spca) \n",
    "# r = t_spca_qr[1]\n",
    "# # compute adjusted variance\n",
    "# variance = []\n",
    "# for i in range(5):\n",
    "#     variance.append(np.square(r[i][i]))\n",
    "# variance = np.array(variance)\n",
    "\n",
    "\n"
   ]
  },
  {
   "cell_type": "code",
   "execution_count": 23,
   "metadata": {},
   "outputs": [
    {
     "data": {
      "text/plain": [
       "array([[-1.11546667,  0.        ,  0.        , ...,  0.        ,\n",
       "         0.        ,  0.        ],\n",
       "       [ 0.        ,  0.        ,  0.        , ...,  0.        ,\n",
       "         0.        ,  0.        ],\n",
       "       [ 0.        ,  0.        ,  0.        , ...,  0.        ,\n",
       "         0.        ,  0.        ],\n",
       "       [ 0.        ,  0.        ,  0.        , ...,  0.        ,\n",
       "         0.        ,  0.        ],\n",
       "       [ 0.        ,  0.        ,  0.        , ...,  0.        ,\n",
       "         0.        ,  0.        ]])"
      ]
     },
     "execution_count": 23,
     "metadata": {},
     "output_type": "execute_result"
    }
   ],
   "source": [
    "transformer.components_"
   ]
  },
  {
   "cell_type": "code",
   "execution_count": 29,
   "metadata": {},
   "outputs": [
    {
     "data": {
      "text/plain": [
       "5"
      ]
     },
     "execution_count": 29,
     "metadata": {},
     "output_type": "execute_result"
    }
   ],
   "source": [
    "len(variance)"
   ]
  },
  {
   "cell_type": "code",
   "execution_count": null,
   "metadata": {},
   "outputs": [],
   "source": []
  },
  {
   "cell_type": "code",
   "execution_count": null,
   "metadata": {},
   "outputs": [],
   "source": []
  },
  {
   "cell_type": "code",
   "execution_count": 32,
   "metadata": {},
   "outputs": [
    {
     "data": {
      "image/png": "[encoded data removed]",
      "text/plain": [
       "<Figure size 432x288 with 1 Axes>"
      ]
     },
     "metadata": {
      "needs_background": "light"
     },
     "output_type": "display_data"
    }
   ],
   "source": [
    "#Fitting the PCA algorithm with our Data\n",
    "# pca = PCA().fit(data_rescaled)\n",
    "\n",
    "#Plotting the Cumulative Summation of the Explained Variance\n",
    "plt.figure()\n",
    "plt.plot(variance)# np.cumsum(transformer.explained_variance_ratio_))\n",
    "plt.xlabel('Number of Components')\n",
    "plt.ylabel('Variance (%)') #for each component\n",
    "plt.title('Explained Variance')\n",
    "plt.show()"
   ]
  },
  {
   "cell_type": "code",
   "execution_count": null,
   "metadata": {},
   "outputs": [],
   "source": []
  },
  {
   "cell_type": "code",
   "execution_count": null,
   "metadata": {},
   "outputs": [],
   "source": []
  },
  {
   "cell_type": "code",
   "execution_count": null,
   "metadata": {},
   "outputs": [],
   "source": [
    "# https://scikit-learn.org/stable/auto_examples/applications/plot_topics_extraction_with_nmf_lda.html#sphx-glr-auto-examples-applications-plot-topics-extraction-with-nmf-lda-py\n"
   ]
  },
  {
   "cell_type": "code",
   "execution_count": null,
   "metadata": {},
   "outputs": [],
   "source": []
  },
  {
   "cell_type": "code",
   "execution_count": null,
   "metadata": {},
   "outputs": [],
   "source": []
  },
  {
   "cell_type": "code",
   "execution_count": null,
   "metadata": {},
   "outputs": [],
   "source": []
  }
 ],
 "metadata": {
  "kernelspec": {
   "display_name": "Python 3",
   "language": "python",
   "name": "python3"
  },
  "language_info": {
   "codemirror_mode": {
    "name": "ipython",
    "version": 3
   },
   "file_extension": ".py",
   "mimetype": "text/x-python",
   "name": "python",
   "nbconvert_exporter": "python",
   "pygments_lexer": "ipython3",
   "version": "3.7.4"
  }
 },
 "nbformat": 4,
 "nbformat_minor": 2
}
