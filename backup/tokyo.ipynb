{
 "cells": [
  {
   "cell_type": "markdown",
   "metadata": {},
   "source": [
    "# Tokyo Neighborhood mining\n",
    "\n",
    "This notebook combines data sources (wikipedia and Foursquare API) to assemble a list of neighborhoods and map them to their coordinates for futher processing."
   ]
  },
  {
   "cell_type": "code",
   "execution_count": 10,
   "metadata": {},
   "outputs": [],
   "source": [
    "import pandas as pd\n",
    "import requests\n",
    "\n",
    "from bs4 import BeautifulSoup\n",
    "\n",
    "from geocoder import enrich_neighborhoods_with_geocoder, map_neighborhoods"
   ]
  },
  {
   "cell_type": "markdown",
   "metadata": {},
   "source": [
    "### Scrape wikipedia to compile Tokyo neighborhood list"
   ]
  },
  {
   "cell_type": "code",
   "execution_count": 33,
   "metadata": {},
   "outputs": [
    {
     "name": "stdout",
     "output_type": "stream",
     "text": [
      "95\n",
      "['Akasaka, Tokyo', 'Akihabara', 'Asakusa', 'Harajuku', 'Ikebukuro', 'Kanda, Tokyo', 'Marunouchi', 'Nihonbashi, Tokyo', 'Roppongi', 'Shiodome', 'Areas of Tokyo', 'Ueno, Tokyo', 'Agariyashiki', 'Akihabara', 'Aoyama, Minato, Tokyo', 'Asagaya', 'Banchō', 'Daikanyamachō, Shibuya', 'Ebisu, Shibuya', 'Ebisuminami, Shibuya', 'Ebisunishi, Shibuya, Tokyo', 'Harajuku', 'Hatsudai', 'Hibiya', 'Higashi, Shibuya', 'Higashiōizumi, Nerima, Tokyo', 'Hiroo, Shibuya', 'Hitotsubashi, Chiyoda', 'Honjo, Tokyo', 'Honmachi, Shibuya', 'Ichigaya', 'Ikebukuro', 'Imado', 'Jingūmae', 'Kabukichō, Tokyo', 'Kagurazaka', 'Kami-ikebukuro', 'Kamiyamachō, Shibuya, Tokyo', 'Kanda, Tokyo', 'Kichijōji', 'Kōjimachi', 'Kyōbashi', 'Marunouchi', 'Mejiro', 'Minamiōizumi, Nerima, Tokyo', 'Mita, Meguro, Tokyo', 'Miyamoto-cho, Tokyo', 'Motoyoyogichō', 'Mount Jinba', 'Nanpeidaichō, Shibuya', 'Nihonbashi', 'Nishi-Shinjuku', 'Nishihara, Shibuya', 'Nishiogikubo', 'Nishiōizumi, Nerima, Tokyo', 'Nishiōizumimachi, Nerima, Tokyo', 'Ochanomizu', 'Odaiba', 'Ōizumigakuenchō', 'Ōizumimachi, Nerima, Tokyo', 'Ōmori, Ōta, Tokyo', 'Omotesandō', 'Otome Road', 'Ōyamachō', \"San'ya\", 'Sasazuka', 'Sendagaya', 'Shiba, Minato, Tokyo', 'Shimokitazawa', 'Shin-Kiba', 'Shin-Koiwa', 'Shinjuku Golden Gai', 'Shinjuku Ni-chōme', 'Shinjuku Southern Terrace', 'Shiodome', 'Shitaya', 'Shitayama-cho, Tokyo', 'Shōtō, Shibuya', 'Sugamo', 'Takadanobaba', 'Tamachi', 'Tateishi, Tokyo', 'Tomigaya', 'Toyosu', 'Uehara, Shibuya', 'Ura-Harajuku', 'Ushigome', 'Yanaka Cemetery', 'Yanesen', 'Yōga, Tokyo', 'Yotsuya', 'Yoyogi', 'Yoyogikamizonochō', 'Yūrei zaka', 'Zōshigaya']\n"
     ]
    }
   ],
   "source": [
    "wiki_url = \"https://en.wikipedia.org/wiki/Category:Neighborhoods_of_Tokyo\"\n",
    "r  = requests.get(wiki_url)\n",
    "data = r.text\n",
    "soup = BeautifulSoup(data)\n",
    "\n",
    "results = []\n",
    "for category_group in soup.find_all(\"div\", class_=\"mw-category-group\"):\n",
    "    links = category_group.find_all('a')\n",
    "    for link in links:\n",
    "        if link and link.get('title'):\n",
    "            stripped = link.get('title').replace('Category:', '')\n",
    "            results.append(stripped)\n",
    "\n",
    "print(len(results))\n",
    "print(results)"
   ]
  },
  {
   "cell_type": "markdown",
   "metadata": {},
   "source": [
    "#### Drop duplicates"
   ]
  },
  {
   "cell_type": "code",
   "execution_count": 3,
   "metadata": {},
   "outputs": [
    {
     "name": "stdout",
     "output_type": "stream",
     "text": [
      "89\n"
     ]
    }
   ],
   "source": [
    "results_set = set(results)\n",
    "neighborhoods_list = list(results_set)\n",
    "print(len(neighborhoods_list))"
   ]
  },
  {
   "cell_type": "code",
   "execution_count": 34,
   "metadata": {},
   "outputs": [
    {
     "data": {
      "text/html": [
       "<div>\n",
       "<style scoped>\n",
       "    .dataframe tbody tr th:only-of-type {\n",
       "        vertical-align: middle;\n",
       "    }\n",
       "\n",
       "    .dataframe tbody tr th {\n",
       "        vertical-align: top;\n",
       "    }\n",
       "\n",
       "    .dataframe thead th {\n",
       "        text-align: right;\n",
       "    }\n",
       "</style>\n",
       "<table border=\"1\" class=\"dataframe\">\n",
       "  <thead>\n",
       "    <tr style=\"text-align: right;\">\n",
       "      <th></th>\n",
       "      <th>Neighborhood</th>\n",
       "    </tr>\n",
       "  </thead>\n",
       "  <tbody>\n",
       "    <tr>\n",
       "      <td>0</td>\n",
       "      <td>Kami-ikebukuro</td>\n",
       "    </tr>\n",
       "    <tr>\n",
       "      <td>1</td>\n",
       "      <td>Kagurazaka</td>\n",
       "    </tr>\n",
       "    <tr>\n",
       "      <td>2</td>\n",
       "      <td>Yanaka Cemetery</td>\n",
       "    </tr>\n",
       "    <tr>\n",
       "      <td>3</td>\n",
       "      <td>Sugamo</td>\n",
       "    </tr>\n",
       "    <tr>\n",
       "      <td>4</td>\n",
       "      <td>Minamiōizumi, Nerima</td>\n",
       "    </tr>\n",
       "  </tbody>\n",
       "</table>\n",
       "</div>"
      ],
      "text/plain": [
       "           Neighborhood\n",
       "0        Kami-ikebukuro\n",
       "1            Kagurazaka\n",
       "2       Yanaka Cemetery\n",
       "3                Sugamo\n",
       "4  Minamiōizumi, Nerima"
      ]
     },
     "execution_count": 34,
     "metadata": {},
     "output_type": "execute_result"
    }
   ],
   "source": [
    "df = pd.DataFrame(neighborhoods_list)\n",
    "df.columns = ['Neighborhood']\n",
    "df['Neighborhood'] = df['Neighborhood'].str.replace(', Tokyo', '')\n",
    "df.head()"
   ]
  },
  {
   "cell_type": "markdown",
   "metadata": {},
   "source": [
    "### Combine wikipedia data with geocoder data\n",
    "\n",
    "Since Wikipedia dataset does not include zip code coordinates, we should hydrate dataset with longitude and latitude from Geocoder in order to access Foursquare data."
   ]
  },
  {
   "cell_type": "code",
   "execution_count": 7,
   "metadata": {},
   "outputs": [],
   "source": [
    "address = 'Tokyo, Japan'"
   ]
  },
  {
   "cell_type": "code",
   "execution_count": 35,
   "metadata": {},
   "outputs": [
    {
     "data": {
      "text/html": [
       "<div>\n",
       "<style scoped>\n",
       "    .dataframe tbody tr th:only-of-type {\n",
       "        vertical-align: middle;\n",
       "    }\n",
       "\n",
       "    .dataframe tbody tr th {\n",
       "        vertical-align: top;\n",
       "    }\n",
       "\n",
       "    .dataframe thead th {\n",
       "        text-align: right;\n",
       "    }\n",
       "</style>\n",
       "<table border=\"1\" class=\"dataframe\">\n",
       "  <thead>\n",
       "    <tr style=\"text-align: right;\">\n",
       "      <th></th>\n",
       "      <th>Neighborhood</th>\n",
       "      <th>Latitude</th>\n",
       "      <th>Longitude</th>\n",
       "    </tr>\n",
       "  </thead>\n",
       "  <tbody>\n",
       "    <tr>\n",
       "      <td>0</td>\n",
       "      <td>Kami-ikebukuro</td>\n",
       "      <td>35.738525</td>\n",
       "      <td>139.717028</td>\n",
       "    </tr>\n",
       "    <tr>\n",
       "      <td>1</td>\n",
       "      <td>Kagurazaka</td>\n",
       "      <td>35.703889</td>\n",
       "      <td>139.734222</td>\n",
       "    </tr>\n",
       "    <tr>\n",
       "      <td>2</td>\n",
       "      <td>Yanaka Cemetery</td>\n",
       "      <td>35.725211</td>\n",
       "      <td>139.771596</td>\n",
       "    </tr>\n",
       "    <tr>\n",
       "      <td>3</td>\n",
       "      <td>Sugamo</td>\n",
       "      <td>35.733412</td>\n",
       "      <td>139.739427</td>\n",
       "    </tr>\n",
       "    <tr>\n",
       "      <td>4</td>\n",
       "      <td>Minamiōizumi, Nerima</td>\n",
       "      <td>NaN</td>\n",
       "      <td>NaN</td>\n",
       "    </tr>\n",
       "  </tbody>\n",
       "</table>\n",
       "</div>"
      ],
      "text/plain": [
       "           Neighborhood   Latitude   Longitude\n",
       "0        Kami-ikebukuro  35.738525  139.717028\n",
       "1            Kagurazaka  35.703889  139.734222\n",
       "2       Yanaka Cemetery  35.725211  139.771596\n",
       "3                Sugamo  35.733412  139.739427\n",
       "4  Minamiōizumi, Nerima        NaN         NaN"
      ]
     },
     "execution_count": 35,
     "metadata": {},
     "output_type": "execute_result"
    }
   ],
   "source": [
    "enrich_neighborhoods_with_geocoder(df, address)\n",
    "df.head()"
   ]
  },
  {
   "cell_type": "code",
   "execution_count": 36,
   "metadata": {},
   "outputs": [
    {
     "name": "stdout",
     "output_type": "stream",
     "text": [
      "<class 'pandas.core.frame.DataFrame'>\n",
      "RangeIndex: 89 entries, 0 to 88\n",
      "Data columns (total 3 columns):\n",
      "Neighborhood    89 non-null object\n",
      "Latitude        74 non-null float64\n",
      "Longitude       74 non-null float64\n",
      "dtypes: float64(2), object(1)\n",
      "memory usage: 2.2+ KB\n"
     ]
    }
   ],
   "source": [
    "df.info()"
   ]
  },
  {
   "cell_type": "code",
   "execution_count": 37,
   "metadata": {},
   "outputs": [
    {
     "name": "stdout",
     "output_type": "stream",
     "text": [
      "<class 'pandas.core.frame.DataFrame'>\n",
      "Int64Index: 74 entries, 0 to 88\n",
      "Data columns (total 3 columns):\n",
      "Neighborhood    74 non-null object\n",
      "Latitude        74 non-null float64\n",
      "Longitude       74 non-null float64\n",
      "dtypes: float64(2), object(1)\n",
      "memory usage: 2.3+ KB\n"
     ]
    }
   ],
   "source": [
    "# dropping but should address missing values\n",
    "df.dropna(inplace=True)\n",
    "df.info()"
   ]
  },
  {
   "cell_type": "markdown",
   "metadata": {},
   "source": [
    "### Visualize Tokyo neighborhoods\n",
    "<a id=\"vis-neighborhoods\"></a>"
   ]
  },
  {
   "cell_type": "code",
   "execution_count": 38,
   "metadata": {},
   "outputs": [
    {
     "data": {
      "text/html": [
       "<div style=\"width:100%;\"><div style=\"position:relative;width:100%;height:0;padding-bottom:60%;\"><iframe src=\"data:text/html;charset=utf-8;base64,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\" style=\"position:absolute;width:100%;height:100%;left:0;top:0;border:none !important;\" allowfullscreen webkitallowfullscreen mozallowfullscreen></iframe></div></div>"
      ],
      "text/plain": [
       "<folium.folium.Map at 0x124ddc0d0>"
      ]
     },
     "execution_count": 38,
     "metadata": {},
     "output_type": "execute_result"
    }
   ],
   "source": [
    "m = map_neighborhoods(df.dropna(), address)\n",
    "m"
   ]
  },
  {
   "cell_type": "code",
   "execution_count": 39,
   "metadata": {},
   "outputs": [
    {
     "data": {
      "text/html": [
       "<div>\n",
       "<style scoped>\n",
       "    .dataframe tbody tr th:only-of-type {\n",
       "        vertical-align: middle;\n",
       "    }\n",
       "\n",
       "    .dataframe tbody tr th {\n",
       "        vertical-align: top;\n",
       "    }\n",
       "\n",
       "    .dataframe thead th {\n",
       "        text-align: right;\n",
       "    }\n",
       "</style>\n",
       "<table border=\"1\" class=\"dataframe\">\n",
       "  <thead>\n",
       "    <tr style=\"text-align: right;\">\n",
       "      <th></th>\n",
       "      <th>Neighborhood</th>\n",
       "      <th>Latitude</th>\n",
       "      <th>Longitude</th>\n",
       "    </tr>\n",
       "  </thead>\n",
       "  <tbody>\n",
       "    <tr>\n",
       "      <td>36</td>\n",
       "      <td>Honjo</td>\n",
       "      <td>36.243338</td>\n",
       "      <td>139.190533</td>\n",
       "    </tr>\n",
       "    <tr>\n",
       "      <td>26</td>\n",
       "      <td>Mount Jinba</td>\n",
       "      <td>35.661360</td>\n",
       "      <td>139.315477</td>\n",
       "    </tr>\n",
       "    <tr>\n",
       "      <td>52</td>\n",
       "      <td>Kichijōji</td>\n",
       "      <td>35.703141</td>\n",
       "      <td>139.580308</td>\n",
       "    </tr>\n",
       "    <tr>\n",
       "      <td>35</td>\n",
       "      <td>Nishiogikubo</td>\n",
       "      <td>35.704034</td>\n",
       "      <td>139.600448</td>\n",
       "    </tr>\n",
       "    <tr>\n",
       "      <td>74</td>\n",
       "      <td>Yōga</td>\n",
       "      <td>35.626648</td>\n",
       "      <td>139.634172</td>\n",
       "    </tr>\n",
       "    <tr>\n",
       "      <td>...</td>\n",
       "      <td>...</td>\n",
       "      <td>...</td>\n",
       "      <td>...</td>\n",
       "    </tr>\n",
       "    <tr>\n",
       "      <td>40</td>\n",
       "      <td>San'ya</td>\n",
       "      <td>35.732714</td>\n",
       "      <td>139.797940</td>\n",
       "    </tr>\n",
       "    <tr>\n",
       "      <td>37</td>\n",
       "      <td>Imado</td>\n",
       "      <td>35.719345</td>\n",
       "      <td>139.803548</td>\n",
       "    </tr>\n",
       "    <tr>\n",
       "      <td>69</td>\n",
       "      <td>Shin-Kiba</td>\n",
       "      <td>35.646183</td>\n",
       "      <td>139.828043</td>\n",
       "    </tr>\n",
       "    <tr>\n",
       "      <td>55</td>\n",
       "      <td>Tateishi</td>\n",
       "      <td>35.738182</td>\n",
       "      <td>139.848055</td>\n",
       "    </tr>\n",
       "    <tr>\n",
       "      <td>63</td>\n",
       "      <td>Shin-Koiwa</td>\n",
       "      <td>35.716950</td>\n",
       "      <td>139.857993</td>\n",
       "    </tr>\n",
       "  </tbody>\n",
       "</table>\n",
       "<p>74 rows × 3 columns</p>\n",
       "</div>"
      ],
      "text/plain": [
       "    Neighborhood   Latitude   Longitude\n",
       "36         Honjo  36.243338  139.190533\n",
       "26   Mount Jinba  35.661360  139.315477\n",
       "52     Kichijōji  35.703141  139.580308\n",
       "35  Nishiogikubo  35.704034  139.600448\n",
       "74          Yōga  35.626648  139.634172\n",
       "..           ...        ...         ...\n",
       "40        San'ya  35.732714  139.797940\n",
       "37         Imado  35.719345  139.803548\n",
       "69     Shin-Kiba  35.646183  139.828043\n",
       "55      Tateishi  35.738182  139.848055\n",
       "63    Shin-Koiwa  35.716950  139.857993\n",
       "\n",
       "[74 rows x 3 columns]"
      ]
     },
     "execution_count": 39,
     "metadata": {},
     "output_type": "execute_result"
    }
   ],
   "source": [
    "df.sort_values('Longitude')"
   ]
  },
  {
   "cell_type": "code",
   "execution_count": 40,
   "metadata": {},
   "outputs": [],
   "source": [
    "df.drop(26, inplace=True)"
   ]
  },
  {
   "cell_type": "code",
   "execution_count": 41,
   "metadata": {},
   "outputs": [
    {
     "data": {
      "text/html": [
       "<div>\n",
       "<style scoped>\n",
       "    .dataframe tbody tr th:only-of-type {\n",
       "        vertical-align: middle;\n",
       "    }\n",
       "\n",
       "    .dataframe tbody tr th {\n",
       "        vertical-align: top;\n",
       "    }\n",
       "\n",
       "    .dataframe thead th {\n",
       "        text-align: right;\n",
       "    }\n",
       "</style>\n",
       "<table border=\"1\" class=\"dataframe\">\n",
       "  <thead>\n",
       "    <tr style=\"text-align: right;\">\n",
       "      <th></th>\n",
       "      <th>Neighborhood</th>\n",
       "      <th>Latitude</th>\n",
       "      <th>Longitude</th>\n",
       "    </tr>\n",
       "  </thead>\n",
       "  <tbody>\n",
       "    <tr>\n",
       "      <td>0</td>\n",
       "      <td>Kami-ikebukuro</td>\n",
       "      <td>35.738525</td>\n",
       "      <td>139.717028</td>\n",
       "    </tr>\n",
       "    <tr>\n",
       "      <td>1</td>\n",
       "      <td>Kagurazaka</td>\n",
       "      <td>35.703889</td>\n",
       "      <td>139.734222</td>\n",
       "    </tr>\n",
       "    <tr>\n",
       "      <td>2</td>\n",
       "      <td>Yanaka Cemetery</td>\n",
       "      <td>35.725211</td>\n",
       "      <td>139.771596</td>\n",
       "    </tr>\n",
       "    <tr>\n",
       "      <td>3</td>\n",
       "      <td>Sugamo</td>\n",
       "      <td>35.733412</td>\n",
       "      <td>139.739427</td>\n",
       "    </tr>\n",
       "    <tr>\n",
       "      <td>4</td>\n",
       "      <td>Akasaka</td>\n",
       "      <td>35.671679</td>\n",
       "      <td>139.735622</td>\n",
       "    </tr>\n",
       "    <tr>\n",
       "      <td>...</td>\n",
       "      <td>...</td>\n",
       "      <td>...</td>\n",
       "      <td>...</td>\n",
       "    </tr>\n",
       "    <tr>\n",
       "      <td>68</td>\n",
       "      <td>Asagaya</td>\n",
       "      <td>35.703164</td>\n",
       "      <td>139.636247</td>\n",
       "    </tr>\n",
       "    <tr>\n",
       "      <td>69</td>\n",
       "      <td>Mita, Meguro</td>\n",
       "      <td>35.648839</td>\n",
       "      <td>139.742771</td>\n",
       "    </tr>\n",
       "    <tr>\n",
       "      <td>70</td>\n",
       "      <td>Mejiro</td>\n",
       "      <td>35.721186</td>\n",
       "      <td>139.706482</td>\n",
       "    </tr>\n",
       "    <tr>\n",
       "      <td>71</td>\n",
       "      <td>Asakusa</td>\n",
       "      <td>35.717528</td>\n",
       "      <td>139.797635</td>\n",
       "    </tr>\n",
       "    <tr>\n",
       "      <td>72</td>\n",
       "      <td>Ueno</td>\n",
       "      <td>35.711759</td>\n",
       "      <td>139.777645</td>\n",
       "    </tr>\n",
       "  </tbody>\n",
       "</table>\n",
       "<p>73 rows × 3 columns</p>\n",
       "</div>"
      ],
      "text/plain": [
       "       Neighborhood   Latitude   Longitude\n",
       "0    Kami-ikebukuro  35.738525  139.717028\n",
       "1        Kagurazaka  35.703889  139.734222\n",
       "2   Yanaka Cemetery  35.725211  139.771596\n",
       "3            Sugamo  35.733412  139.739427\n",
       "4           Akasaka  35.671679  139.735622\n",
       "..              ...        ...         ...\n",
       "68          Asagaya  35.703164  139.636247\n",
       "69     Mita, Meguro  35.648839  139.742771\n",
       "70           Mejiro  35.721186  139.706482\n",
       "71          Asakusa  35.717528  139.797635\n",
       "72             Ueno  35.711759  139.777645\n",
       "\n",
       "[73 rows x 3 columns]"
      ]
     },
     "execution_count": 41,
     "metadata": {},
     "output_type": "execute_result"
    }
   ],
   "source": [
    "df.reset_index(inplace=True, drop=True)\n",
    "df"
   ]
  },
  {
   "cell_type": "markdown",
   "metadata": {},
   "source": [
    "### Save neighborhood coordinates dataset"
   ]
  },
  {
   "cell_type": "code",
   "execution_count": 3,
   "metadata": {},
   "outputs": [
    {
     "data": {
      "text/html": [
       "<div>\n",
       "<style scoped>\n",
       "    .dataframe tbody tr th:only-of-type {\n",
       "        vertical-align: middle;\n",
       "    }\n",
       "\n",
       "    .dataframe tbody tr th {\n",
       "        vertical-align: top;\n",
       "    }\n",
       "\n",
       "    .dataframe thead th {\n",
       "        text-align: right;\n",
       "    }\n",
       "</style>\n",
       "<table border=\"1\" class=\"dataframe\">\n",
       "  <thead>\n",
       "    <tr style=\"text-align: right;\">\n",
       "      <th></th>\n",
       "      <th>Neighborhood</th>\n",
       "      <th>Latitude</th>\n",
       "      <th>Longitude</th>\n",
       "    </tr>\n",
       "  </thead>\n",
       "  <tbody>\n",
       "    <tr>\n",
       "      <td>0</td>\n",
       "      <td>Kami-ikebukuro</td>\n",
       "      <td>35.738525</td>\n",
       "      <td>139.717028</td>\n",
       "    </tr>\n",
       "    <tr>\n",
       "      <td>1</td>\n",
       "      <td>Kagurazaka</td>\n",
       "      <td>35.703889</td>\n",
       "      <td>139.734222</td>\n",
       "    </tr>\n",
       "    <tr>\n",
       "      <td>2</td>\n",
       "      <td>Yanaka Cemetery</td>\n",
       "      <td>35.725211</td>\n",
       "      <td>139.771596</td>\n",
       "    </tr>\n",
       "    <tr>\n",
       "      <td>3</td>\n",
       "      <td>Sugamo</td>\n",
       "      <td>35.733412</td>\n",
       "      <td>139.739427</td>\n",
       "    </tr>\n",
       "    <tr>\n",
       "      <td>4</td>\n",
       "      <td>Akasaka</td>\n",
       "      <td>35.671679</td>\n",
       "      <td>139.735622</td>\n",
       "    </tr>\n",
       "    <tr>\n",
       "      <td>...</td>\n",
       "      <td>...</td>\n",
       "      <td>...</td>\n",
       "      <td>...</td>\n",
       "    </tr>\n",
       "    <tr>\n",
       "      <td>68</td>\n",
       "      <td>Asagaya</td>\n",
       "      <td>35.703164</td>\n",
       "      <td>139.636247</td>\n",
       "    </tr>\n",
       "    <tr>\n",
       "      <td>69</td>\n",
       "      <td>Mita, Meguro</td>\n",
       "      <td>35.648839</td>\n",
       "      <td>139.742771</td>\n",
       "    </tr>\n",
       "    <tr>\n",
       "      <td>70</td>\n",
       "      <td>Mejiro</td>\n",
       "      <td>35.721186</td>\n",
       "      <td>139.706482</td>\n",
       "    </tr>\n",
       "    <tr>\n",
       "      <td>71</td>\n",
       "      <td>Asakusa</td>\n",
       "      <td>35.717528</td>\n",
       "      <td>139.797635</td>\n",
       "    </tr>\n",
       "    <tr>\n",
       "      <td>72</td>\n",
       "      <td>Ueno</td>\n",
       "      <td>35.711759</td>\n",
       "      <td>139.777645</td>\n",
       "    </tr>\n",
       "  </tbody>\n",
       "</table>\n",
       "<p>73 rows × 3 columns</p>\n",
       "</div>"
      ],
      "text/plain": [
       "       Neighborhood   Latitude   Longitude\n",
       "0    Kami-ikebukuro  35.738525  139.717028\n",
       "1        Kagurazaka  35.703889  139.734222\n",
       "2   Yanaka Cemetery  35.725211  139.771596\n",
       "3            Sugamo  35.733412  139.739427\n",
       "4           Akasaka  35.671679  139.735622\n",
       "..              ...        ...         ...\n",
       "68          Asagaya  35.703164  139.636247\n",
       "69     Mita, Meguro  35.648839  139.742771\n",
       "70           Mejiro  35.721186  139.706482\n",
       "71          Asakusa  35.717528  139.797635\n",
       "72             Ueno  35.711759  139.777645\n",
       "\n",
       "[73 rows x 3 columns]"
      ]
     },
     "execution_count": 3,
     "metadata": {},
     "output_type": "execute_result"
    }
   ],
   "source": [
    "# df.to_csv('data/tokyo_neighborhood_coords.csv')\n",
    "\n",
    "# Load instead\n",
    "df = pd.read_csv('data/tokyo_neighborhood_coords.csv', index_col=0)\n",
    "df"
   ]
  },
  {
   "cell_type": "code",
   "execution_count": null,
   "metadata": {},
   "outputs": [],
   "source": []
  }
 ],
 "metadata": {
  "kernelspec": {
   "display_name": "Python 3",
   "language": "python",
   "name": "python3"
  },
  "language_info": {
   "codemirror_mode": {
    "name": "ipython",
    "version": 3
   },
   "file_extension": ".py",
   "mimetype": "text/x-python",
   "name": "python",
   "nbconvert_exporter": "python",
   "pygments_lexer": "ipython3",
   "version": "3.7.4"
  }
 },
 "nbformat": 4,
 "nbformat_minor": 2
}
