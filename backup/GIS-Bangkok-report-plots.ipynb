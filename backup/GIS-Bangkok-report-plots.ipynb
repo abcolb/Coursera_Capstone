{
 "cells": [
  {
   "cell_type": "code",
   "execution_count": 1,
   "metadata": {},
   "outputs": [],
   "source": [
    "import pandas as pd\n",
    "import numpy as np\n",
    "\n",
    "import re\n",
    "\n",
    "from matplotlib import colors, rc, rcParams\n",
    "import matplotlib.pyplot as plt\n",
    "import seaborn as sns\n",
    "%matplotlib inline\n",
    "\n",
    "import geopandas as gpd\n",
    "import folium\n",
    "\n",
    "from shapely.geometry import polygon, multipolygon, Point\n",
    "\n",
    "import mapclassify as mc\n",
    "import libpysal as lp\n",
    "\n",
    "from esda import moran # Morans\n",
    "from splot.esda import plot_moran, moran_scatterplot\n",
    "\n",
    "from scipy.stats import shapiro, boxcox\n",
    "\n",
    "from statsmodels.stats.multitest import multipletests\n",
    "\n",
    "import contextily as ctx"
   ]
  },
  {
   "cell_type": "code",
   "execution_count": 6,
   "metadata": {},
   "outputs": [],
   "source": [
    "def set_style():\n",
    "#     sns.set_context(\"paper\")\n",
    "#     sns.set(font='serif')\n",
    "#     sns.set_style(\"white\", {\n",
    "#         \"font.family\": \"serif\",\n",
    "#         \"font.serif\": [\"Times\", \"Palatino\", \"serif\"]\n",
    "#     })\n",
    "    \n",
    "#     rc('font',**{'family':'sans-serif','sans-serif':['Helvetica']})\n",
    "# #     rc('text', usetex=True)\n",
    "    \n",
    "#     rcParams['text.usetex']=True\n",
    "# #     rcParams['text.latex.unicode']=True\n",
    "\n",
    "    rcParams['mathtext.fontset'] = 'cm'\n",
    "#     rcParams['font.family'] = 'cmu serif'#'STIXGeneral'\n",
    "    rcParams['figure.dpi']=300\n",
    "#     plt.title(r'ABC123 vs $\\mathrm{ABC123}^{123}$')\n",
    "    \n",
    "#     plt.style.use(['seaborn-white', 'seaborn-paper'])\n",
    "\n",
    "set_style()"
   ]
  },
  {
   "cell_type": "code",
   "execution_count": null,
   "metadata": {},
   "outputs": [],
   "source": [
    "def get_colors():\n",
    "    return np.array([\n",
    "        [0.1, 0.1, 0.1],          # black\n",
    "        [0.4, 0.4, 0.4],          # very dark gray\n",
    "        [0.7, 0.7, 0.7],          # dark gray\n",
    "        [0.9, 0.9, 0.9],          # light gray\n",
    "        [0.984375, 0.7265625, 0], # dark yellow\n",
    "        [1, 1, 0.9]               # light yellow\n",
    "    ])"
   ]
  },
  {
   "cell_type": "markdown",
   "metadata": {},
   "source": [
    "## Load District boundaries"
   ]
  },
  {
   "cell_type": "code",
   "execution_count": 4,
   "metadata": {},
   "outputs": [
    {
     "data": {
      "text/html": [
       "<div>\n",
       "<style scoped>\n",
       "    .dataframe tbody tr th:only-of-type {\n",
       "        vertical-align: middle;\n",
       "    }\n",
       "\n",
       "    .dataframe tbody tr th {\n",
       "        vertical-align: top;\n",
       "    }\n",
       "\n",
       "    .dataframe thead th {\n",
       "        text-align: right;\n",
       "    }\n",
       "</style>\n",
       "<table border=\"1\" class=\"dataframe\">\n",
       "  <thead>\n",
       "    <tr style=\"text-align: right;\">\n",
       "      <th></th>\n",
       "      <th>district</th>\n",
       "      <th>venue_val_per_capita</th>\n",
       "      <th>geometry</th>\n",
       "    </tr>\n",
       "  </thead>\n",
       "  <tbody>\n",
       "    <tr>\n",
       "      <td>0</td>\n",
       "      <td>Ban Na</td>\n",
       "      <td>0.001687</td>\n",
       "      <td>POLYGON ((101.06481 14.41179, 101.06536 14.410...</td>\n",
       "    </tr>\n",
       "    <tr>\n",
       "      <td>1</td>\n",
       "      <td>Ban Pho</td>\n",
       "      <td>0.002365</td>\n",
       "      <td>POLYGON ((100.96163 13.70401, 100.96242 13.703...</td>\n",
       "    </tr>\n",
       "    <tr>\n",
       "      <td>2</td>\n",
       "      <td>Bang Bo</td>\n",
       "      <td>0.001102</td>\n",
       "      <td>POLYGON ((100.93635 13.66819, 100.93792 13.667...</td>\n",
       "    </tr>\n",
       "    <tr>\n",
       "      <td>3</td>\n",
       "      <td>Bang Bon</td>\n",
       "      <td>0.000474</td>\n",
       "      <td>POLYGON ((100.43022 13.67181, 100.42820 13.669...</td>\n",
       "    </tr>\n",
       "    <tr>\n",
       "      <td>4</td>\n",
       "      <td>Bang Bua Thong</td>\n",
       "      <td>0.001762</td>\n",
       "      <td>POLYGON ((100.38375 13.98669, 100.38609 13.986...</td>\n",
       "    </tr>\n",
       "    <tr>\n",
       "      <td>...</td>\n",
       "      <td>...</td>\n",
       "      <td>...</td>\n",
       "      <td>...</td>\n",
       "    </tr>\n",
       "    <tr>\n",
       "      <td>78</td>\n",
       "      <td>Wang Noi</td>\n",
       "      <td>0.001517</td>\n",
       "      <td>POLYGON ((100.82285 14.32829, 100.82439 14.326...</td>\n",
       "    </tr>\n",
       "    <tr>\n",
       "      <td>79</td>\n",
       "      <td>Wang Thonglang</td>\n",
       "      <td>0.001202</td>\n",
       "      <td>POLYGON ((100.58796 13.80530, 100.58826 13.805...</td>\n",
       "    </tr>\n",
       "    <tr>\n",
       "      <td>80</td>\n",
       "      <td>Wattana</td>\n",
       "      <td>0.005168</td>\n",
       "      <td>POLYGON ((100.55692 13.75175, 100.55806 13.751...</td>\n",
       "    </tr>\n",
       "    <tr>\n",
       "      <td>81</td>\n",
       "      <td>Wihan Daeng</td>\n",
       "      <td>0.000716</td>\n",
       "      <td>POLYGON ((100.99131 14.42083, 100.99177 14.418...</td>\n",
       "    </tr>\n",
       "    <tr>\n",
       "      <td>82</td>\n",
       "      <td>Yannawa</td>\n",
       "      <td>0.002994</td>\n",
       "      <td>POLYGON ((100.54800 13.72229, 100.55074 13.721...</td>\n",
       "    </tr>\n",
       "  </tbody>\n",
       "</table>\n",
       "<p>83 rows × 3 columns</p>\n",
       "</div>"
      ],
      "text/plain": [
       "          district  venue_val_per_capita  \\\n",
       "0           Ban Na              0.001687   \n",
       "1          Ban Pho              0.002365   \n",
       "2          Bang Bo              0.001102   \n",
       "3         Bang Bon              0.000474   \n",
       "4   Bang Bua Thong              0.001762   \n",
       "..             ...                   ...   \n",
       "78        Wang Noi              0.001517   \n",
       "79  Wang Thonglang              0.001202   \n",
       "80         Wattana              0.005168   \n",
       "81     Wihan Daeng              0.000716   \n",
       "82         Yannawa              0.002994   \n",
       "\n",
       "                                             geometry  \n",
       "0   POLYGON ((101.06481 14.41179, 101.06536 14.410...  \n",
       "1   POLYGON ((100.96163 13.70401, 100.96242 13.703...  \n",
       "2   POLYGON ((100.93635 13.66819, 100.93792 13.667...  \n",
       "3   POLYGON ((100.43022 13.67181, 100.42820 13.669...  \n",
       "4   POLYGON ((100.38375 13.98669, 100.38609 13.986...  \n",
       "..                                                ...  \n",
       "78  POLYGON ((100.82285 14.32829, 100.82439 14.326...  \n",
       "79  POLYGON ((100.58796 13.80530, 100.58826 13.805...  \n",
       "80  POLYGON ((100.55692 13.75175, 100.55806 13.751...  \n",
       "81  POLYGON ((100.99131 14.42083, 100.99177 14.418...  \n",
       "82  POLYGON ((100.54800 13.72229, 100.55074 13.721...  \n",
       "\n",
       "[83 rows x 3 columns]"
      ]
     },
     "execution_count": 4,
     "metadata": {},
     "output_type": "execute_result"
    }
   ],
   "source": [
    "districts_pop_gdf = gpd.read_file('data/Bangkok-saturated-districts.shp')\n",
    "\n",
    "districts_pop_gdf = districts_pop_gdf[['district','venue_va_1','geometry']]\n",
    "districts_pop_gdf.columns = ['district','venue_val_per_capita','geometry']\n",
    "districts_pop_gdf"
   ]
  },
  {
   "cell_type": "code",
   "execution_count": 7,
   "metadata": {},
   "outputs": [
    {
     "data": {
      "image/png": "[encoded data removed]",
      "text/plain": [
       "<Figure size 1800x1200 with 1 Axes>"
      ]
     },
     "metadata": {
      "needs_background": "light"
     },
     "output_type": "display_data"
    }
   ],
   "source": [
    "ax = districts_pop_gdf.venue_val_per_capita.hist(bins=20, figsize=(6,4))\n",
    "plt.title('Distribution of Venue Value per Capita')\n",
    "plt.ylim(0,30)\n",
    "plt.xlabel('Venue Value per Capita')\n",
    "plt.ylabel('Number of Venues')\n",
    "# sns.despine(ax=ax, left=True)\n",
    "# sns.despine(ax=axes[2], left=True)\n",
    "\n",
    "plt.tight_layout()\n",
    "# plt.savefig('data/output_venuevalue.svg')\n",
    "plt.show()"
   ]
  },
  {
   "cell_type": "code",
   "execution_count": null,
   "metadata": {},
   "outputs": [],
   "source": [
    "boxcox_venue_val_per_capita = boxcox(districts_pop_gdf.venue_val_per_capita)\n",
    "districts_pop_gdf['boxcox_venue_val_per_capita'] = boxcox_venue_val_per_capita[0]"
   ]
  },
  {
   "cell_type": "code",
   "execution_count": null,
   "metadata": {},
   "outputs": [],
   "source": [
    "districts_pop_gdf.boxcox_venue_val_per_capita.hist(bins=20, figsize=(6,4))\n",
    "plt.ylim(0,30)\n",
    "plt.title('Distribution of boxcox(Venue Value per Capita)')\n",
    "plt.xlabel('boxcox(Venue Value per Capita)')\n",
    "plt.ylabel('Number of Venues')\n",
    "plt.tight_layout()\n",
    "plt.savefig('data/output_boxcoxvenuevalue.svg')\n",
    "plt.show()"
   ]
  },
  {
   "cell_type": "markdown",
   "metadata": {},
   "source": [
    "## Venue Value per Capita per District - Global Morans\n",
    "\n",
    "Global autocorrelation test - is the distribution of food venues random?"
   ]
  },
  {
   "cell_type": "code",
   "execution_count": null,
   "metadata": {},
   "outputs": [],
   "source": [
    "# Generate weights matrix with Queen first-order contiguity\n",
    "\n",
    "wq = lp.weights.Queen.from_dataframe(districts_pop_gdf, idVariable='district')\n",
    "wq.transform = 'r'"
   ]
  },
  {
   "cell_type": "code",
   "execution_count": null,
   "metadata": {},
   "outputs": [],
   "source": [
    "# Confirm no islands\n",
    "wq.islands"
   ]
  },
  {
   "cell_type": "code",
   "execution_count": null,
   "metadata": {},
   "outputs": [],
   "source": [
    "# Inspect connectivity of districts\n",
    "neigh_list = [len(d) for d in wq.neighbors.values()]\n",
    "\n",
    "print('Queens weight median neighbors: ', np.median(neigh_list))\n",
    "print('Queens weight average neighbors: ', np.average(neigh_list))\n",
    "print('Queens weight max neighbors: ', np.max(neigh_list))\n",
    "print('Queens weight min neighbors: ', np.min(neigh_list))"
   ]
  },
  {
   "cell_type": "code",
   "execution_count": null,
   "metadata": {},
   "outputs": [],
   "source": [
    "# Compute spatial lag - the weighted average of food venue value per capita per district\n",
    "# The spatial leg standardizes the rows and takes the average value of all venues in each district.\n",
    "\n",
    "y = districts_pop_gdf['boxcox_venue_val_per_capita']\n",
    "ylag = lp.weights.lag_spatial(wq, y)\n",
    "ylag[0:5]"
   ]
  },
  {
   "cell_type": "code",
   "execution_count": null,
   "metadata": {},
   "outputs": [],
   "source": [
    "districts_pop_gdf['lag_boxcox_venue_val_per_capita'] = ylag #make this _gdf\n",
    "f,ax = plt.subplots(1,2,figsize=(20,10))\n",
    "\n",
    "districts_pop_gdf.plot(column='venue_val_per_capita', ax=ax[0], edgecolor='grey',\n",
    "        scheme=\"quantiles\",  k=10, cmap='Purples')\n",
    "ax[0].axis(districts_pop_gdf.total_bounds[np.asarray([0,2,1,3])])\n",
    "ax[0].set_title(\"Venue value per capita\")\n",
    "\n",
    "districts_pop_gdf.plot(column='lag_boxcox_venue_val_per_capita', ax=ax[1], edgecolor='grey',\n",
    "        scheme='quantiles', cmap='Purples', k=10)\n",
    "ax[1].axis(districts_pop_gdf.total_bounds[np.asarray([0,2,1,3])])\n",
    "ax[1].set_title(\"Spatial Lag venue value per capita\")\n",
    "ax[0].axis('off')\n",
    "ax[1].axis('off')\n",
    "\n",
    "plt.show()"
   ]
  },
  {
   "cell_type": "code",
   "execution_count": null,
   "metadata": {},
   "outputs": [],
   "source": [
    "np.random.seed(123)\n",
    "mi = moran.Moran(y, wq, permutations=9999, two_tailed=False)\n",
    "\n",
    "sns.kdeplot(mi.sim, shade=True)\n",
    "plt.vlines(mi.I, 0, 1, color='r')\n",
    "plt.vlines(mi.EI, 0,1)\n",
    "plt.xlabel(\"Moran's I\")"
   ]
  },
  {
   "cell_type": "code",
   "execution_count": null,
   "metadata": {},
   "outputs": [],
   "source": [
    "# A p-value of 0.05 and less is significant\n",
    "mi.p_sim"
   ]
  },
  {
   "cell_type": "code",
   "execution_count": null,
   "metadata": {},
   "outputs": [],
   "source": [
    "# Globally, distribution is statistically significant. \n",
    "# We reject our null hypothesis that venue distribution is random.\n",
    "# Instead, we have significant clustering of 'like' values"
   ]
  },
  {
   "cell_type": "markdown",
   "metadata": {},
   "source": [
    "## Local Autocorrelation"
   ]
  },
  {
   "cell_type": "code",
   "execution_count": null,
   "metadata": {},
   "outputs": [],
   "source": [
    "# since .05/N is on the order of 1e − 4,\n",
    "# we need at least 10,000 to establish whether a simulation is anomalous\n",
    "li = moran.Moran_Local(y, wq, permutations=9999)\n",
    "\n",
    "# Determine number of statistically-significant hotspots/coldspots\n",
    "print('Num clusters/outliers: ', (li.p_sim < 0.05).sum())"
   ]
  },
  {
   "cell_type": "code",
   "execution_count": null,
   "metadata": {},
   "outputs": [],
   "source": [
    "print('Num clusters/outliers: ', (li.p_sim < 0.0006).sum())"
   ]
  },
  {
   "cell_type": "code",
   "execution_count": null,
   "metadata": {},
   "outputs": [],
   "source": []
  },
  {
   "cell_type": "code",
   "execution_count": null,
   "metadata": {},
   "outputs": [],
   "source": [
    "moran_scatterplot(li)"
   ]
  },
  {
   "cell_type": "code",
   "execution_count": null,
   "metadata": {},
   "outputs": [],
   "source": [
    "moran_scatterplot(li, p=0.05) # consider p=0.0006 - Bonferroni correction\n",
    "plt.show()"
   ]
  },
  {
   "cell_type": "code",
   "execution_count": null,
   "metadata": {},
   "outputs": [],
   "source": [
    "moran_scatterplot(li, p=0.0006) # Bonferroni correction\n",
    "plt.show()"
   ]
  },
  {
   "cell_type": "code",
   "execution_count": null,
   "metadata": {},
   "outputs": [],
   "source": [
    "# Apply Benjamini/Hochberg False Discovery Rate to p-values, \n",
    "# a less conservative correction than Bonferroni approach\n",
    "fdr_corrected_pval = multipletests(li.p_sim, method='fdr_bh')\n",
    "\n",
    "districts_pop_gdf.loc[:,'p_fdr'] = fdr_corrected_pval[1]\n",
    "districts_pop_gdf.loc[:,'fdr_significant'] = fdr_corrected_pval[0]\n",
    "\n",
    "districts_pop_gdf.head()"
   ]
  },
  {
   "cell_type": "code",
   "execution_count": null,
   "metadata": {},
   "outputs": [],
   "source": [
    "districts_pop_gdf[['district','p_n','p_r','p_fdr','fdr_significant']].sort_values('p_fdr')[0:15]"
   ]
  },
  {
   "cell_type": "code",
   "execution_count": null,
   "metadata": {},
   "outputs": [],
   "source": [
    "# Instead of 0.05 limit, use FDR-corrected upper bound\n",
    "P_VAL = 0.0048"
   ]
  },
  {
   "cell_type": "code",
   "execution_count": null,
   "metadata": {},
   "outputs": [],
   "source": [
    "moran_scatterplot(li, p=P_VAL) # FDR correction\n",
    "plt.show()"
   ]
  },
  {
   "cell_type": "code",
   "execution_count": null,
   "metadata": {},
   "outputs": [],
   "source": [
    "sig = 1 * (li.p_sim < P_VAL)\n",
    "\n",
    "hotspot = 1 * (sig * li.q==1)\n",
    "coldspot = 3 * (sig * li.q==3)\n",
    "doughnut = 2 * (sig * li.q==2)\n",
    "diamond = 4 * (sig * li.q==4)\n",
    "\n",
    "spots = hotspot + coldspot + doughnut + diamond\n",
    "spots"
   ]
  },
  {
   "cell_type": "code",
   "execution_count": null,
   "metadata": {},
   "outputs": [],
   "source": [
    "spot_labels = ['0 not significant', '1 hot spot', '2 doughnut', '3 cold spot', '4 diamond']\n",
    "labels = [spot_labels[i] for i in spots]"
   ]
  },
  {
   "cell_type": "code",
   "execution_count": null,
   "metadata": {},
   "outputs": [],
   "source": [
    "# districts_pop_gdf.loc[:,'cluster_category'] = labels\n",
    "# districts_pop_gdf.loc[:,'I_i'] = li.Is\n",
    "# districts_pop_gdf.loc[:,'p_r'] = li.p_sim\n",
    "# districts_pop_gdf.loc[:,'p_n'] = li.p_z_sim\n",
    "# districts_pop_gdf.loc[:,'z_score'] = li.z_sim\n",
    "districts_pop_gdf.loc[:,'morans_quadrant'] = li.q\n",
    "# districts_pop_gdf.loc[:,'cluster_category'] = districts_pop_gdf['cluster_category'].astype('category')\n",
    "districts_pop_gdf.head()"
   ]
  },
  {
   "cell_type": "code",
   "execution_count": null,
   "metadata": {},
   "outputs": [],
   "source": [
    "districts_pop_gdf.loc[:,'p_r_singificance'] = districts_pop_gdf.p_r.apply(lambda p: p if p < 0.05 else None)"
   ]
  },
  {
   "cell_type": "code",
   "execution_count": null,
   "metadata": {},
   "outputs": [],
   "source": [
    "li.q"
   ]
  },
  {
   "cell_type": "code",
   "execution_count": null,
   "metadata": {},
   "outputs": [],
   "source": [
    "districts_pop_gdf"
   ]
  },
  {
   "cell_type": "code",
   "execution_count": null,
   "metadata": {},
   "outputs": [],
   "source": [
    "# hmap = colors.ListedColormap(['lightgrey', 'red', 'lightblue', 'blue']) # 'pink' for diamonds excluded with zero data points\n",
    "\n",
    "ax = districts_pop_gdf.plot(color='lightgrey', linewidth=0.01, figsize=(10, 7))\n",
    "\n",
    "def get_sig_bin(p_r):\n",
    "    if (p_r > 0.01):\n",
    "        return 0.05\n",
    "    if (p_r > P_VAL):\n",
    "        return 0.01\n",
    "    if (p_r > 0.001):\n",
    "        return P_VAL\n",
    "    if (p_r > 0.0006): # Bonferroni\n",
    "        return 0.001\n",
    "    return 0.0006\n",
    "\n",
    "sig_districts_gdf = districts_pop_gdf.dropna()\n",
    "sig_districts_gdf.loc[:,'sig_bin'] = sig_districts_gdf.p_r.apply(get_sig_bin)\n",
    "\n",
    "sig_districts_gdf.plot(column='sig_bin', ax=ax, categorical=True,\\\n",
    "        k=5, cmap='Greens_r', linewidth=0.1,\\\n",
    "        edgecolor='white', legend=True) # , missing_kwds={'color': \"lightgrey\"}) Not available yet\n",
    "ax.set_axis_off()\n",
    "\n",
    "plt.title('Local Moran\\'s I of Food venue value per capita in Bangkok')\n",
    "plt.show()"
   ]
  },
  {
   "cell_type": "code",
   "execution_count": null,
   "metadata": {},
   "outputs": [],
   "source": [
    "districts_pop_gdf.assign?"
   ]
  },
  {
   "cell_type": "code",
   "execution_count": null,
   "metadata": {},
   "outputs": [],
   "source": [
    "hmap = colors.ListedColormap(['lightgrey', 'red', 'lightblue', 'blue']) # 'pink' for diamonds excluded with zero data points\n",
    "f, ax = plt.subplots(1, figsize=(20, 14))\n",
    "\n",
    "districts_pop_gdf.plot(column='cluster_category', categorical=True, \\\n",
    "        k=2, cmap=hmap, linewidth=0.1, ax=ax, \\\n",
    "        edgecolor='white', legend=True)\n",
    "ax.set_axis_off()\n",
    "\n",
    "plt.title('Local Moran\\'s I of Food venue value per capita in Bangkok')\n",
    "plt.show()"
   ]
  },
  {
   "cell_type": "code",
   "execution_count": null,
   "metadata": {},
   "outputs": [],
   "source": [
    "# Print Doughnut neighbourhoods in order of significance\n",
    "districts_pop_gdf[districts_pop_gdf.cluster_category=='2 doughnut'][['district', 'p_n','p_r','p_fdr','z_score']]\\\n",
    "    .sort_values('p_r')"
   ]
  },
  {
   "cell_type": "code",
   "execution_count": null,
   "metadata": {},
   "outputs": [],
   "source": [
    "# Moran's I identifies 2 statistically-significant regions as opportunities for food delivery services."
   ]
  },
  {
   "cell_type": "code",
   "execution_count": null,
   "metadata": {},
   "outputs": [],
   "source": [
    "# Print Hot Spot neighbourhoods in order of significance\n",
    "districts_pop_gdf[districts_pop_gdf.cluster_category=='1 hot spot'][['district', 'p_n','p_r','p_fdr','z_score']]\\\n",
    "    .sort_values('p_r')"
   ]
  },
  {
   "cell_type": "code",
   "execution_count": null,
   "metadata": {},
   "outputs": [],
   "source": [
    "# Print Cold Spot neighbourhoods in order of significance\n",
    "districts_pop_gdf[districts_pop_gdf.cluster_category=='3 cold spot'][['district', 'p_n','p_r','p_fdr','z_score']]\\\n",
    "    .sort_values('p_r')"
   ]
  },
  {
   "cell_type": "code",
   "execution_count": null,
   "metadata": {},
   "outputs": [],
   "source": [
    "districts_pop_gdf.reset_index()[['index','district', 'geometry', 'boxcox_venue_val_per_capita',\n",
    "       'lag_boxcox_venue_val_per_capita','I_i','p_n','p_r','p_fdr','z_score']].to_file('data/output-Bangkok-boxcox.shp')"
   ]
  },
  {
   "cell_type": "code",
   "execution_count": null,
   "metadata": {},
   "outputs": [],
   "source": [
    "# venue_population_gdf.reset_index()[['index','district', 'population','geometry', 'venue_value_sum', 'venue_value_per_capita',\n",
    "#        'lag_venue_value_per_capita', 'p_value',\n",
    "#        'z_score']].to_file('data/output-Bangkok.geojson',driver=\"GeoJSON\")"
   ]
  },
  {
   "cell_type": "code",
   "execution_count": null,
   "metadata": {},
   "outputs": [],
   "source": []
  }
 ],
 "metadata": {
  "kernelspec": {
   "display_name": "Python 3",
   "language": "python",
   "name": "python3"
  },
  "language_info": {
   "codemirror_mode": {
    "name": "ipython",
    "version": 3
   },
   "file_extension": ".py",
   "mimetype": "text/x-python",
   "name": "python",
   "nbconvert_exporter": "python",
   "pygments_lexer": "ipython3",
   "version": "3.7.4"
  }
 },
 "nbformat": 4,
 "nbformat_minor": 2
}
